{
 "cells": [
  {
   "cell_type": "code",
   "execution_count": 1,
   "metadata": {},
   "outputs": [
    {
     "name": "stdout",
     "output_type": "stream",
     "text": [
      "Today's date is: 2021-08-23\n"
     ]
    }
   ],
   "source": [
    "from datetime import date\n",
    "\n",
    "today = date.today()\n",
    "print(\"Today's date is:\", today)\n",
    "# (base) nana ~ % conda activate tensorflow\n",
    "# Install a pip package in the current Jupyter kernel\n",
    "# !python --version\n",
    "# !pip install matplotlib"
   ]
  },
  {
   "cell_type": "code",
   "execution_count": 2,
   "metadata": {},
   "outputs": [],
   "source": [
    "import tensorflow as tf\n",
    "from tensorflow.keras import backend as K\n",
    "from tensorflow.keras import layers # 1.14.0\n",
    "from tensorflow.keras.models import Model, load_model\n",
    "import tensorflow.keras.backend as K\n",
    "\n",
    "# %pylab inline\n",
    "import random\n",
    "\n",
    "\n",
    "from glob import glob  # directory paths\n",
    "import pandas as pd    # big data management \n",
    "# from sklearn.cluster import KMeans  # ML package, clustering code, similarity measure\n",
    "import numpy as np # 1.16.4\n",
    "from numpy import array, zeros, prod\n",
    "# import seaborn as sns\n",
    "# print(tf.__version__)"
   ]
  },
  {
   "cell_type": "code",
   "execution_count": 3,
   "metadata": {},
   "outputs": [
    {
     "data": {
      "text/plain": [
       "'1.19.5'"
      ]
     },
     "execution_count": 3,
     "metadata": {},
     "output_type": "execute_result"
    }
   ],
   "source": [
    "import numpy # Previously it was 1.21 which got conflict with LSTM! I downgraded numpy version!\n",
    "numpy.version.version"
   ]
  },
  {
   "cell_type": "markdown",
   "metadata": {},
   "source": [
    "# Data Processing"
   ]
  },
  {
   "cell_type": "code",
   "execution_count": 4,
   "metadata": {},
   "outputs": [
    {
     "name": "stdout",
     "output_type": "stream",
     "text": [
      "total_touch.shape: (35517, 250, 6)\n",
      "total_length: 35517\n"
     ]
    }
   ],
   "source": [
    "# loads all the touch files into numpy format\n",
    "dirs = glob('ExperimentSmall/*/') \n",
    "\n",
    "length = 250  # length of data file (10 seconds at 25 samples per second)\n",
    "total_type = []  # sentence in survey corresponding to the touch data \n",
    "total_touch = []  # all touch data here\n",
    "type_num = 33  # number of questions in survey\n",
    "\n",
    "for path in dirs:\n",
    "    files_path = glob(path + '*') # num_paths -> files_path\n",
    "    for num_path in files_path:\n",
    "        numstr = num_path.split('.')[-1]#Split the num_path from files_path until '.' from the end of the num_path\n",
    "        if numstr.isdigit():\n",
    "            num = int(numstr) \n",
    "                        \n",
    "        temp_data = []\n",
    "        with open(num_path, 'r') as f:  \n",
    "            for _, line in enumerate(f):\n",
    "                temp_data.append(line.split()[0].split(','))   # comma separated data\n",
    "#                 print(\"temp_data:\", temp_data) #['0', '169', '0', '86', '0', '0'],\n",
    "#                 print(temp_data[-1])\n",
    "        # if number of rows is less than length=250 repeat the last row to get 250 row in total\n",
    "        while len(temp_data) < length:\n",
    "            last_data = temp_data[-1]\n",
    "#             print(last_data) # ['0', '323', '0', '0', '0', '0'] \\\\ ['0', '367', '0', '0', '0', '0']\n",
    "            temp_data.append(last_data)\n",
    "#         print(\"len(temp_data):\", len(temp_data))\n",
    "        for i in range(len(temp_data)-length): #len(temp_data)= 1672   1175   \n",
    "            total_touch.append(temp_data[i:i+250])\n",
    "            total_type.append(num) # 1, 2\n",
    "#             print(\"total_type:\", total_type)\n",
    "            \n",
    "#         print(total_type)\n",
    "#         print(array(total_touch).shape, num_path) # which files cause error in shape \n",
    "# & convert it from 3d to 2d\n",
    "\n",
    "total_touch = np.array(total_touch)\n",
    "print(\"total_touch.shape:\", total_touch.shape) \n",
    "# print(\"num is:\", total_type)\n",
    "total_length = len(total_touch) \n",
    "print(\"total_length:\", total_length) \n"
   ]
  },
  {
   "cell_type": "code",
   "execution_count": 5,
   "metadata": {},
   "outputs": [
    {
     "name": "stdout",
     "output_type": "stream",
     "text": [
      "310543\n"
     ]
    },
    {
     "data": {
      "text/html": [
       "<div>\n",
       "<style scoped>\n",
       "    .dataframe tbody tr th:only-of-type {\n",
       "        vertical-align: middle;\n",
       "    }\n",
       "\n",
       "    .dataframe tbody tr th {\n",
       "        vertical-align: top;\n",
       "    }\n",
       "\n",
       "    .dataframe thead th {\n",
       "        text-align: right;\n",
       "    }\n",
       "</style>\n",
       "<table border=\"1\" class=\"dataframe\">\n",
       "  <thead>\n",
       "    <tr style=\"text-align: right;\">\n",
       "      <th></th>\n",
       "      <th>A</th>\n",
       "      <th>B</th>\n",
       "      <th>C</th>\n",
       "      <th>WC</th>\n",
       "      <th>Analytic</th>\n",
       "      <th>Clout</th>\n",
       "      <th>Authentic</th>\n",
       "      <th>Tone</th>\n",
       "      <th>posemo</th>\n",
       "      <th>negemo</th>\n",
       "      <th>anx</th>\n",
       "      <th>anger</th>\n",
       "      <th>sad</th>\n",
       "      <th>female</th>\n",
       "      <th>male</th>\n",
       "      <th>tentat</th>\n",
       "      <th>certain</th>\n",
       "      <th>sexual</th>\n",
       "      <th>swear</th>\n",
       "    </tr>\n",
       "  </thead>\n",
       "  <tbody>\n",
       "    <tr>\n",
       "      <th>0</th>\n",
       "      <td>ABBA</td>\n",
       "      <td>Ahe's My Kind Of Girl</td>\n",
       "      <td>Look at her face, it's a wonderful face  \\nAnd...</td>\n",
       "      <td>32</td>\n",
       "      <td>11.24</td>\n",
       "      <td>73.40</td>\n",
       "      <td>7.84</td>\n",
       "      <td>99.00</td>\n",
       "      <td>12.50</td>\n",
       "      <td>0.0</td>\n",
       "      <td>0.0</td>\n",
       "      <td>0.0</td>\n",
       "      <td>0.0</td>\n",
       "      <td>9.38</td>\n",
       "      <td>3.12</td>\n",
       "      <td>6.25</td>\n",
       "      <td>0.00</td>\n",
       "      <td>0.0</td>\n",
       "      <td>0.0</td>\n",
       "    </tr>\n",
       "    <tr>\n",
       "      <th>1</th>\n",
       "      <td>ABBA</td>\n",
       "      <td>Ahe's My Kind Of Girl</td>\n",
       "      <td>She's just my kind of girl, she makes me feel ...</td>\n",
       "      <td>42</td>\n",
       "      <td>1.00</td>\n",
       "      <td>31.71</td>\n",
       "      <td>2.82</td>\n",
       "      <td>70.57</td>\n",
       "      <td>2.38</td>\n",
       "      <td>0.0</td>\n",
       "      <td>0.0</td>\n",
       "      <td>0.0</td>\n",
       "      <td>0.0</td>\n",
       "      <td>19.05</td>\n",
       "      <td>0.00</td>\n",
       "      <td>7.14</td>\n",
       "      <td>4.76</td>\n",
       "      <td>0.0</td>\n",
       "      <td>0.0</td>\n",
       "    </tr>\n",
       "    <tr>\n",
       "      <th>2</th>\n",
       "      <td>ABBA</td>\n",
       "      <td>Ahe's My Kind Of Girl</td>\n",
       "      <td>And when we go for a walk in the park  \\nAnd s...</td>\n",
       "      <td>33</td>\n",
       "      <td>39.45</td>\n",
       "      <td>96.52</td>\n",
       "      <td>85.21</td>\n",
       "      <td>25.77</td>\n",
       "      <td>0.00</td>\n",
       "      <td>0.0</td>\n",
       "      <td>0.0</td>\n",
       "      <td>0.0</td>\n",
       "      <td>0.0</td>\n",
       "      <td>3.03</td>\n",
       "      <td>0.00</td>\n",
       "      <td>0.00</td>\n",
       "      <td>3.03</td>\n",
       "      <td>0.0</td>\n",
       "      <td>0.0</td>\n",
       "    </tr>\n",
       "  </tbody>\n",
       "</table>\n",
       "</div>"
      ],
      "text/plain": [
       "      A                      B  \\\n",
       "0  ABBA  Ahe's My Kind Of Girl   \n",
       "1  ABBA  Ahe's My Kind Of Girl   \n",
       "2  ABBA  Ahe's My Kind Of Girl   \n",
       "\n",
       "                                                   C  WC  Analytic  Clout  \\\n",
       "0  Look at her face, it's a wonderful face  \\nAnd...  32     11.24  73.40   \n",
       "1  She's just my kind of girl, she makes me feel ...  42      1.00  31.71   \n",
       "2  And when we go for a walk in the park  \\nAnd s...  33     39.45  96.52   \n",
       "\n",
       "   Authentic   Tone  posemo  negemo  anx  anger  sad  female  male  tentat  \\\n",
       "0       7.84  99.00   12.50     0.0  0.0    0.0  0.0    9.38  3.12    6.25   \n",
       "1       2.82  70.57    2.38     0.0  0.0    0.0  0.0   19.05  0.00    7.14   \n",
       "2      85.21  25.77    0.00     0.0  0.0    0.0  0.0    3.03  0.00    0.00   \n",
       "\n",
       "   certain  sexual  swear  \n",
       "0     0.00     0.0    0.0  \n",
       "1     4.76     0.0    0.0  \n",
       "2     3.03     0.0    0.0  "
      ]
     },
     "execution_count": 5,
     "metadata": {},
     "output_type": "execute_result"
    }
   ],
   "source": [
    "liwc_csv = pd.read_csv('liwc.csv')  # reading in the LIWC scores for all lyrics\n",
    "print(len(liwc_csv))\n",
    "liwc_csv[0:3]"
   ]
  },
  {
   "cell_type": "code",
   "execution_count": 6,
   "metadata": {},
   "outputs": [
    {
     "name": "stdout",
     "output_type": "stream",
     "text": [
      "total_features: (33, 11)498797268354 0.0450823235429554 0.7696196661975958\n",
      "CPU times: user 20 s, sys: 307 ms, total: 20.3 s\n",
      "Wall time: 20.3 s\n"
     ]
    }
   ],
   "source": [
    "%%time\n",
    "from __future__ import print_function \n",
    "csv_len = len(liwc_csv) # 310543\n",
    "feature_num = len(liwc_csv.iloc[0][8:].values) # = 11 Identifies the number of features - 0:8 is meta-data\n",
    "total_features = zeros((type_num, feature_num))\n",
    "features = []\n",
    "\n",
    "for i in range(csv_len):  # range over lyrics\n",
    "    if i % 1000 == 0:\n",
    "        print(\"i % 1000 == 0:\", i / csv_len, end=\"\\r\")\n",
    "    features.append(liwc_csv.iloc[i, 8:].values)  # associate feature 1 with its score in lyric 1\n",
    "features = array(features)\n",
    "\n",
    "# sentences in the experiment\n",
    "text = ['Something that you said burnin\\' in my head',\n",
    "        'Y\\'all want a single say fuck that  \\nFuck that, fuck that  \\nFuck that',\n",
    "        'Naked - naked - just get back to basics  \\nNaked - face it - you can\\'t fake it when youre  \\n',\n",
    "        'All wound up  \\nOn the edge',\n",
    "        'I\\'ve never felt good  \\nI\\'ve never felt bad',\n",
    "        'Shell shock battle fatigue',\n",
    "        'Good morning beautiful, a beautiful day',\n",
    "        'The Humpty Dance is your chance to do the Hump',\n",
    "        'Tears of rage, tears of pain',\n",
    "        'Welcome to the pleasuredome',\n",
    "        'But maybe I\\'m crazy',\n",
    "        'Still I\\'m sad  \\n',\n",
    "        'Promise me love, promise me  \\nKisses sweet love',\n",
    "        'Cry baby cry  \\nMake your mother sigh  \\nShe\\'s old enough to know better.  \\nSo cry baby cry',\n",
    "        'Lover, lover, lover  \\n',\n",
    "        'Never give up  \\nNever hold you head down',\n",
    "        'She\\'s losing,',\n",
    "        'Bitch,  \\nStupid ass bitch',\n",
    "        'If I, if I, if I, if I, if I, if I, if I, if I',\n",
    "        'Damn  \\nDamn girl',\n",
    "        'Kill tonight, kill tonight  \\n',\n",
    "        'But try to find  \\n',\n",
    "        'Tell me why do my tears fall like rain\\?  \\nWorry worry worry',\n",
    "        'I\\'m drowning  \\nAnger my bitter breath',\n",
    "        'Sorry \\(I\\'m sorry\\)',\n",
    "        'Wake up in the morning, my hands cold in fear.',\n",
    "        'All together now  \\n\\(All together now\\)  \\n',\n",
    "        'Her feelings she hides  \\n',\n",
    "        'Boys boys boys  \\nWe like boys in cars  \\nBoys boys boys  \\n',\n",
    "        'He\\'s a woman, she\\'s a man  \\n',\n",
    "        'Mother\\'s pride  \\nBaby boy',\n",
    "        'Strong girl, she\\'s like an ocean',\n",
    "        'He drank Coca-Cola, he was eating Wonder Bread',\n",
    "        ]\n",
    "\n",
    "for i, txt in enumerate(text):  # retrieve feature score for all 33 lyrics\n",
    "    print(i, end='\\r')\n",
    "    total_features[i] = liwc_csv[liwc_csv['C'].str.contains(txt)].iloc[0, 8:].values\n",
    "    \n",
    "print(\"total_features:\", total_features.shape)"
   ]
  },
  {
   "cell_type": "code",
   "execution_count": 7,
   "metadata": {},
   "outputs": [
    {
     "data": {
      "text/plain": [
       "(310543, 11)"
      ]
     },
     "execution_count": 7,
     "metadata": {},
     "output_type": "execute_result"
    }
   ],
   "source": [
    "features.shape"
   ]
  },
  {
   "cell_type": "markdown",
   "metadata": {},
   "source": [
    "# LSTM Nana"
   ]
  },
  {
   "cell_type": "code",
   "execution_count": 8,
   "metadata": {},
   "outputs": [],
   "source": [
    "from tensorflow.keras.layers import LSTM\n",
    "from tensorflow.keras.models import Sequential\n"
   ]
  },
  {
   "cell_type": "code",
   "execution_count": 9,
   "metadata": {},
   "outputs": [
    {
     "name": "stdout",
     "output_type": "stream",
     "text": [
      "Model: \"model\"\n",
      "_________________________________________________________________\n",
      "Layer (type)                 Output Shape              Param #   \n",
      "=================================================================\n",
      "input_1 (InputLayer)         [(None, 250, 6)]          0         \n",
      "_________________________________________________________________\n",
      "lstm (LSTM)                  (None, 250, 200)          165600    \n",
      "_________________________________________________________________\n",
      "dropout (Dropout)            (None, 250, 200)          0         \n",
      "_________________________________________________________________\n",
      "lstm_1 (LSTM)                (None, 200)               320800    \n",
      "_________________________________________________________________\n",
      "dropout_1 (Dropout)          (None, 200)               0         \n",
      "_________________________________________________________________\n",
      "dense (Dense)                (None, 128)               25728     \n",
      "_________________________________________________________________\n",
      "dropout_2 (Dropout)          (None, 128)               0         \n",
      "_________________________________________________________________\n",
      "dense_1 (Dense)              (None, 64)                8256      \n",
      "_________________________________________________________________\n",
      "dropout_3 (Dropout)          (None, 64)                0         \n",
      "_________________________________________________________________\n",
      "dense_2 (Dense)              (None, 32)                2080      \n",
      "_________________________________________________________________\n",
      "dense_3 (Dense)              (None, 11)                363       \n",
      "=================================================================\n",
      "Total params: 522,827\n",
      "Trainable params: 522,827\n",
      "Non-trainable params: 0\n",
      "_________________________________________________________________\n"
     ]
    }
   ],
   "source": [
    "# define model\n",
    "# (25, 6) provide sequence of 25 by 6 inputs\n",
    "\n",
    "input_touch = layers.Input((250, 6))\n",
    "# x = layers.LSTM(100, return_sequences = True)\n",
    "x = layers.LSTM(200, return_sequences=True, recurrent_dropout=0.2)(input_touch)\n",
    "x = layers.Dropout(0.2)(x)\n",
    "x = layers.LSTM(200, recurrent_dropout=0.2)(x)\n",
    "x = layers.Dropout(0.2)(x)\n",
    "x = layers.Dense(128, activation='relu')(x)\n",
    "x = layers.Dropout(0.2)(x)\n",
    "x = layers.Dense(64, activation='relu')(x)\n",
    "x = layers.Dropout(0.2)(x)\n",
    "x = layers.Dense(32, activation='relu')(x)\n",
    "x = layers.Dense(feature_num, activation='relu')(x)\n",
    "\n",
    "model = Model(input_touch, x)\n",
    "model.compile(optimizer='RMSprop', loss='mse') #, metrics=['acc']\n",
    "model.summary()"
   ]
  },
  {
   "cell_type": "code",
   "execution_count": 10,
   "metadata": {},
   "outputs": [],
   "source": [
    "# # define model\n",
    "# model = Sequential()\n",
    "# model.add(LSTM(50, activation='relu', input_shape=(99, 9)))\n",
    "# model.add(Dense(1))\n",
    "# model.compile(optimizer='adam', loss='mse')"
   ]
  },
  {
   "cell_type": "code",
   "execution_count": 11,
   "metadata": {},
   "outputs": [],
   "source": [
    "import numpy as np\n",
    "import tensorflow.keras.models\n",
    "from tensorflow.keras.models import Sequential\n",
    "from tensorflow.keras.layers import Activation, Dense\n",
    "import numpy as np\n",
    "import matplotlib.pyplot as plt\n",
    "from pylab import *\n",
    "import random"
   ]
  },
  {
   "cell_type": "code",
   "execution_count": 12,
   "metadata": {},
   "outputs": [],
   "source": [
    "import logging\n",
    "import tensorflow\n",
    "tensorflow.autograph.set_verbosity(0)\n",
    "logging.getLogger(\"tensorflow\").setLevel(logging.ERROR)\n"
   ]
  },
  {
   "cell_type": "code",
   "execution_count": 13,
   "metadata": {},
   "outputs": [],
   "source": [
    "# Used to give an error of arange is not defined and kernel dies! \n",
    "def gen(batch_size, arr):\n",
    "    i = 0\n",
    "    while True:\n",
    "        temp_arr = arr[i * batch_size:(i + 1) * batch_size]\n",
    "        length = len(temp_arr)\n",
    "        temp_touch = zeros((length, 250, 6))\n",
    "        temp_type = zeros((length, feature_num))\n",
    "        for j in range(length):\n",
    "            temp_num = temp_arr[j]\n",
    "            temp_touch[j] = total_touch[temp_num]\n",
    "            temp_type[j] = total_features[total_type[temp_num]]\n",
    "        i += 1\n",
    "        if i * batch_size >= len(arr):\n",
    "            i = 0\n",
    "        yield temp_touch, temp_type\n",
    "        \n",
    "batch_size = 512 # 128 bud ba 222 steps_per_epoch\n",
    "this_arr = arange(total_length)\n",
    "random.shuffle(this_arr)\n",
    "split = total_length // 10\n",
    "validation_arr = this_arr[8 * split:9 * split]\n",
    "test_arr = this_arr[9 * split:]\n",
    "train_arr = this_arr[:8 * split]\n",
    "\n"
   ]
  },
  {
   "cell_type": "code",
   "execution_count": 14,
   "metadata": {},
   "outputs": [
    {
     "data": {
      "text/plain": [
       "(10000, 1500)"
      ]
     },
     "execution_count": 14,
     "metadata": {},
     "output_type": "execute_result"
    }
   ],
   "source": [
    "# Run this cell if you want to decrease the data for training \n",
    "train_arr = train_arr[0:10000]\n",
    "test_arr = test_arr[0:1500]\n",
    "len(train_arr), len(test_arr)"
   ]
  },
  {
   "cell_type": "code",
   "execution_count": 15,
   "metadata": {},
   "outputs": [
    {
     "name": "stdout",
     "output_type": "stream",
     "text": [
      "Epoch 1/10\n"
     ]
    },
    {
     "name": "stderr",
     "output_type": "stream",
     "text": [
      "/Users/nana/miniforge3/envs/tensorflow/lib/python3.8/site-packages/tensorflow/python/keras/engine/training.py:1844: UserWarning: `Model.fit_generator` is deprecated and will be removed in a future version. Please use `Model.fit`, which supports generators.\n",
      "  warnings.warn('`Model.fit_generator` is deprecated and '\n",
      "2021-08-23 17:56:44.216042: I tensorflow/compiler/mlir/mlir_graph_optimization_pass.cc:116] None of the MLIR optimization passes are enabled (registered 2)\n",
      "2021-08-23 17:56:44.216216: W tensorflow/core/platform/profile_utils/cpu_utils.cc:126] Failed to get CPU frequency: 0 Hz\n"
     ]
    },
    {
     "name": "stdout",
     "output_type": "stream",
     "text": [
      "20/20 [==============================] - 637s 33s/step - loss: 192.9980 - val_loss: 141.0552\n",
      "Epoch 2/10\n",
      "20/20 [==============================] - 717s 36s/step - loss: 143.2214 - val_loss: 138.2721\n",
      "Epoch 3/10\n",
      "20/20 [==============================] - 751s 36s/step - loss: 138.3275 - val_loss: 136.1508\n",
      "Epoch 4/10\n",
      "20/20 [==============================] - 715s 35s/step - loss: 132.3651 - val_loss: 134.1617\n",
      "Epoch 5/10\n",
      "20/20 [==============================] - 752s 37s/step - loss: 123.7979 - val_loss: 132.9372\n",
      "Epoch 6/10\n",
      "20/20 [==============================] - 688s 34s/step - loss: 117.4327 - val_loss: 138.6464\n",
      "Epoch 7/10\n",
      "20/20 [==============================] - 722s 35s/step - loss: 109.9961 - val_loss: 130.2927\n",
      "Epoch 8/10\n",
      "20/20 [==============================] - 764s 37s/step - loss: 103.5910 - val_loss: 132.1920\n",
      "Epoch 9/10\n",
      "20/20 [==============================] - 941s 47s/step - loss: 98.6237 - val_loss: 121.0914\n",
      "Epoch 10/10\n",
      "20/20 [==============================] - 758s 37s/step - loss: 89.1776 - val_loss: 130.5950\n"
     ]
    }
   ],
   "source": [
    "# https://www.geeksforgeeks.org/keras-fit-and-keras-fit_generator/\n",
    "history_lstm = model.fit_generator(gen(batch_size, train_arr),\n",
    "                              steps_per_epoch=int(len(train_arr) / batch_size) + 1,\n",
    "                              epochs=10,#50\n",
    "                              validation_data=gen(batch_size, validation_arr),\n",
    "                              validation_steps=int(len(validation_arr) / batch_size) + 1,\n",
    "                              )\n"
   ]
  },
  {
   "cell_type": "code",
   "execution_count": null,
   "metadata": {},
   "outputs": [
    {
     "name": "stdout",
     "output_type": "stream",
     "text": [
      "Epoch 1/10\n",
      "20/20 [==============================] - 660s 33s/step - loss: 182.3389 - val_loss: 140.8456\n",
      "Epoch 2/10\n",
      "20/20 [==============================] - 652s 32s/step - loss: 140.1224 - val_loss: 139.6777\n",
      "Epoch 3/10\n",
      "20/20 [==============================] - 941s 47s/step - loss: 136.5582 - val_loss: 140.0770\n",
      "Epoch 4/10\n",
      "20/20 [==============================] - 686s 33s/step - loss: 131.8049 - val_loss: 138.5826\n",
      "Epoch 5/10\n",
      "20/20 [==============================] - 722s 35s/step - loss: 125.7657 - val_loss: 139.6485\n",
      "Epoch 6/10\n",
      "20/20 [==============================] - 682s 33s/step - loss: 120.3577 - val_loss: 137.0075\n",
      "Epoch 7/10\n",
      " 3/20 [===>..........................] - ETA: 10:45 - loss: 117.8415"
     ]
    }
   ],
   "source": [
    "# https://www.geeksforgeeks.org/keras-fit-and-keras-fit_generator/\n",
    "history_lstm = model.fit_generator(gen(batch_size, train_arr),\n",
    "                              steps_per_epoch=int(len(train_arr) / batch_size) + 1,\n",
    "                              epochs=10,#50\n",
    "                              validation_data=gen(batch_size, validation_arr),\n",
    "                              validation_steps=int(len(validation_arr) / batch_size) + 1,\n",
    "                              )\n"
   ]
  },
  {
   "cell_type": "code",
   "execution_count": 22,
   "metadata": {},
   "outputs": [],
   "source": []
  },
  {
   "cell_type": "code",
   "execution_count": null,
   "metadata": {},
   "outputs": [],
   "source": []
  },
  {
   "cell_type": "code",
   "execution_count": null,
   "metadata": {},
   "outputs": [],
   "source": []
  },
  {
   "cell_type": "code",
   "execution_count": null,
   "metadata": {},
   "outputs": [],
   "source": []
  },
  {
   "cell_type": "code",
   "execution_count": null,
   "metadata": {},
   "outputs": [],
   "source": []
  },
  {
   "cell_type": "code",
   "execution_count": null,
   "metadata": {},
   "outputs": [],
   "source": []
  },
  {
   "cell_type": "code",
   "execution_count": null,
   "metadata": {},
   "outputs": [],
   "source": []
  },
  {
   "cell_type": "code",
   "execution_count": null,
   "metadata": {},
   "outputs": [],
   "source": []
  },
  {
   "cell_type": "code",
   "execution_count": null,
   "metadata": {},
   "outputs": [],
   "source": [
    "# import matplotlib.pyplot as plt\n",
    "# # Plot training & validation loss values\n",
    "# plt.plot(history_lstm.history['loss'][2:])\n",
    "# plt.plot(history_lstm.history['val_loss'][2:])\n",
    "# plt.title('Model_loss')\n",
    "# plt.ylabel('Loss')\n",
    "# plt.xlabel('Epoch')\n",
    "# plt.legend(['Train', 'Valid'], loc='upper left')\n",
    "# plt.grid(True)\n",
    "# # plt.xticks(np.arange(1, 100, 5))\n",
    "# plt.show()"
   ]
  }
 ],
 "metadata": {
  "kernelspec": {
   "display_name": "Python (tensorflow)",
   "language": "python",
   "name": "tensorflow"
  },
  "language_info": {
   "codemirror_mode": {
    "name": "ipython",
    "version": 3
   },
   "file_extension": ".py",
   "mimetype": "text/x-python",
   "name": "python",
   "nbconvert_exporter": "python",
   "pygments_lexer": "ipython3",
   "version": "3.8.10"
  }
 },
 "nbformat": 4,
 "nbformat_minor": 4
}
