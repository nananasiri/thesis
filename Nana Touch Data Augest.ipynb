{
 "cells": [
  {
   "cell_type": "code",
   "execution_count": 1,
   "metadata": {},
   "outputs": [
    {
     "name": "stdout",
     "output_type": "stream",
     "text": [
      "Today's date is: 2021-07-26\n"
     ]
    }
   ],
   "source": [
    "from datetime import date\n",
    "\n",
    "today = date.today()\n",
    "print(\"Today's date is:\", today)\n",
    "# (base) nana ~ % conda activate tensorflow\n",
    "# Install a pip package in the current Jupyter kernel\n",
    "# !python --version\n",
    "# !pip install matplotlib"
   ]
  },
  {
   "cell_type": "code",
   "execution_count": 2,
   "metadata": {},
   "outputs": [],
   "source": [
    "import tensorflow as tf\n",
    "from tensorflow.keras import layers # 1.14.0\n",
    "from tensorflow.keras.models import Model, load_model\n",
    "import tensorflow.keras.backend as K"
   ]
  },
  {
   "cell_type": "code",
   "execution_count": 3,
   "metadata": {},
   "outputs": [],
   "source": [
    "# %pylab inline\n",
    "import random\n",
    "from glob import glob  # directory paths\n",
    "import pandas as pd    # big data management \n",
    "# from sklearn.cluster import KMeans  # ML package, clustering code, similarity measure\n",
    "import numpy as np # 1.16.4\n",
    "from numpy import array, zeros, prod\n",
    "# import seaborn as sns\n",
    "# print(tf.__version__)"
   ]
  },
  {
   "cell_type": "markdown",
   "metadata": {},
   "source": [
    "# Data Processing"
   ]
  },
  {
   "cell_type": "code",
   "execution_count": 4,
   "metadata": {},
   "outputs": [
    {
     "name": "stdout",
     "output_type": "stream",
     "text": [
      "total_touch.shape: (119337, 250, 6)\n"
     ]
    }
   ],
   "source": [
    "# loads all the touch files into numpy format\n",
    "dirs = glob('Experiment/*/') \n",
    "\n",
    "length = 250  # length of data file (10 seconds at 25 samples per second)\n",
    "total_type = []  # sentence in survey corresponding to the touch data \n",
    "total_touch = []  # all touch data here\n",
    "type_num = 33  # number of questions in survey\n",
    "\n",
    "for path in dirs:\n",
    "    files_path = glob(path + '*') # num_paths -> files_path\n",
    "    for num_path in files_path:\n",
    "        numstr = num_path.split('.')[-1]#Split the num_path from files_path until '.' from the end of the num_path\n",
    "        if numstr.isdigit():\n",
    "            num = int(numstr) \n",
    "                        \n",
    "        temp_data = []\n",
    "        with open(num_path, 'r') as f:  \n",
    "            for _, line in enumerate(f):\n",
    "                temp_data.append(line.split()[0].split(','))   # comma separated data\n",
    "#                 print(\"temp_data:\", temp_data) #['0', '169', '0', '86', '0', '0'],\n",
    "#                 print(temp_data[-1])\n",
    "        # if number of rows is less than length=250 repeat the last row to get 250 row in total\n",
    "        while len(temp_data) < length:\n",
    "            last_data = temp_data[-1]\n",
    "#             print(last_data) # ['0', '323', '0', '0', '0', '0'] \\\\ ['0', '367', '0', '0', '0', '0']\n",
    "            temp_data.append(last_data)\n",
    "#         print(\"len(temp_data):\", len(temp_data))\n",
    "        for i in range(len(temp_data)-length): #len(temp_data)= 1672   1175   \n",
    "            total_touch.append(temp_data[i:i+250])\n",
    "            total_type.append(num) # 1, 2\n",
    "#             print(\"total_type:\", total_type)\n",
    "            \n",
    "#         print(total_type)\n",
    "#         print(array(total_touch).shape, num_path) # which files cause error in shape \n",
    "# & convert it from 3d to 2d\n",
    "\n",
    "total_touch = np.array(total_touch)\n",
    "print(\"total_touch.shape:\", total_touch.shape) \n",
    "# print(\"num is:\", total_type)\n",
    "total_length = len(total_touch) \n",
    "# print(\"total_length:\", total_length) \n"
   ]
  },
  {
   "cell_type": "code",
   "execution_count": 5,
   "metadata": {},
   "outputs": [
    {
     "name": "stdout",
     "output_type": "stream",
     "text": [
      "310543\n"
     ]
    },
    {
     "data": {
      "text/html": [
       "<div>\n",
       "<style scoped>\n",
       "    .dataframe tbody tr th:only-of-type {\n",
       "        vertical-align: middle;\n",
       "    }\n",
       "\n",
       "    .dataframe tbody tr th {\n",
       "        vertical-align: top;\n",
       "    }\n",
       "\n",
       "    .dataframe thead th {\n",
       "        text-align: right;\n",
       "    }\n",
       "</style>\n",
       "<table border=\"1\" class=\"dataframe\">\n",
       "  <thead>\n",
       "    <tr style=\"text-align: right;\">\n",
       "      <th></th>\n",
       "      <th>A</th>\n",
       "      <th>B</th>\n",
       "      <th>C</th>\n",
       "      <th>WC</th>\n",
       "      <th>Analytic</th>\n",
       "      <th>Clout</th>\n",
       "      <th>Authentic</th>\n",
       "      <th>Tone</th>\n",
       "      <th>posemo</th>\n",
       "      <th>negemo</th>\n",
       "      <th>anx</th>\n",
       "      <th>anger</th>\n",
       "      <th>sad</th>\n",
       "      <th>female</th>\n",
       "      <th>male</th>\n",
       "      <th>tentat</th>\n",
       "      <th>certain</th>\n",
       "      <th>sexual</th>\n",
       "      <th>swear</th>\n",
       "    </tr>\n",
       "  </thead>\n",
       "  <tbody>\n",
       "    <tr>\n",
       "      <th>0</th>\n",
       "      <td>ABBA</td>\n",
       "      <td>Ahe's My Kind Of Girl</td>\n",
       "      <td>Look at her face, it's a wonderful face  \\nAnd...</td>\n",
       "      <td>32</td>\n",
       "      <td>11.24</td>\n",
       "      <td>73.40</td>\n",
       "      <td>7.84</td>\n",
       "      <td>99.00</td>\n",
       "      <td>12.50</td>\n",
       "      <td>0.0</td>\n",
       "      <td>0.0</td>\n",
       "      <td>0.0</td>\n",
       "      <td>0.0</td>\n",
       "      <td>9.38</td>\n",
       "      <td>3.12</td>\n",
       "      <td>6.25</td>\n",
       "      <td>0.00</td>\n",
       "      <td>0.0</td>\n",
       "      <td>0.0</td>\n",
       "    </tr>\n",
       "    <tr>\n",
       "      <th>1</th>\n",
       "      <td>ABBA</td>\n",
       "      <td>Ahe's My Kind Of Girl</td>\n",
       "      <td>She's just my kind of girl, she makes me feel ...</td>\n",
       "      <td>42</td>\n",
       "      <td>1.00</td>\n",
       "      <td>31.71</td>\n",
       "      <td>2.82</td>\n",
       "      <td>70.57</td>\n",
       "      <td>2.38</td>\n",
       "      <td>0.0</td>\n",
       "      <td>0.0</td>\n",
       "      <td>0.0</td>\n",
       "      <td>0.0</td>\n",
       "      <td>19.05</td>\n",
       "      <td>0.00</td>\n",
       "      <td>7.14</td>\n",
       "      <td>4.76</td>\n",
       "      <td>0.0</td>\n",
       "      <td>0.0</td>\n",
       "    </tr>\n",
       "    <tr>\n",
       "      <th>2</th>\n",
       "      <td>ABBA</td>\n",
       "      <td>Ahe's My Kind Of Girl</td>\n",
       "      <td>And when we go for a walk in the park  \\nAnd s...</td>\n",
       "      <td>33</td>\n",
       "      <td>39.45</td>\n",
       "      <td>96.52</td>\n",
       "      <td>85.21</td>\n",
       "      <td>25.77</td>\n",
       "      <td>0.00</td>\n",
       "      <td>0.0</td>\n",
       "      <td>0.0</td>\n",
       "      <td>0.0</td>\n",
       "      <td>0.0</td>\n",
       "      <td>3.03</td>\n",
       "      <td>0.00</td>\n",
       "      <td>0.00</td>\n",
       "      <td>3.03</td>\n",
       "      <td>0.0</td>\n",
       "      <td>0.0</td>\n",
       "    </tr>\n",
       "  </tbody>\n",
       "</table>\n",
       "</div>"
      ],
      "text/plain": [
       "      A                      B  \\\n",
       "0  ABBA  Ahe's My Kind Of Girl   \n",
       "1  ABBA  Ahe's My Kind Of Girl   \n",
       "2  ABBA  Ahe's My Kind Of Girl   \n",
       "\n",
       "                                                   C  WC  Analytic  Clout  \\\n",
       "0  Look at her face, it's a wonderful face  \\nAnd...  32     11.24  73.40   \n",
       "1  She's just my kind of girl, she makes me feel ...  42      1.00  31.71   \n",
       "2  And when we go for a walk in the park  \\nAnd s...  33     39.45  96.52   \n",
       "\n",
       "   Authentic   Tone  posemo  negemo  anx  anger  sad  female  male  tentat  \\\n",
       "0       7.84  99.00   12.50     0.0  0.0    0.0  0.0    9.38  3.12    6.25   \n",
       "1       2.82  70.57    2.38     0.0  0.0    0.0  0.0   19.05  0.00    7.14   \n",
       "2      85.21  25.77    0.00     0.0  0.0    0.0  0.0    3.03  0.00    0.00   \n",
       "\n",
       "   certain  sexual  swear  \n",
       "0     0.00     0.0    0.0  \n",
       "1     4.76     0.0    0.0  \n",
       "2     3.03     0.0    0.0  "
      ]
     },
     "execution_count": 5,
     "metadata": {},
     "output_type": "execute_result"
    }
   ],
   "source": [
    "liwc_csv = pd.read_csv('liwc.csv')  # reading in the LIWC scores for all lyrics\n",
    "print(len(liwc_csv))\n",
    "liwc_csv[0:3]"
   ]
  },
  {
   "cell_type": "code",
   "execution_count": 363,
   "metadata": {},
   "outputs": [
    {
     "data": {
      "text/plain": [
       "(310543, 19)"
      ]
     },
     "execution_count": 363,
     "metadata": {},
     "output_type": "execute_result"
    }
   ],
   "source": [
    "liwc_csv.shape"
   ]
  },
  {
   "cell_type": "code",
   "execution_count": 6,
   "metadata": {},
   "outputs": [
    {
     "name": "stdout",
     "output_type": "stream",
     "text": [
      "total_features: (33, 11)498797268354 0.7213171766872865 0.7792801640996577\n",
      "CPU times: user 20.3 s, sys: 216 ms, total: 20.5 s\n",
      "Wall time: 20.5 s\n"
     ]
    }
   ],
   "source": [
    "%%time\n",
    "from __future__ import print_function \n",
    "csv_len = len(liwc_csv) # 310543\n",
    "feature_num = len(liwc_csv.iloc[0][8:].values) # = 11 Identifies the number of features - 0:8 is meta-data\n",
    "total_features = zeros((type_num, feature_num))\n",
    "features = []\n",
    "\n",
    "for i in range(csv_len):  # range over lyrics\n",
    "    if i % 1000 == 0:\n",
    "        print(\"i % 1000 == 0:\", i / csv_len, end=\"\\r\")\n",
    "    features.append(liwc_csv.iloc[i, 8:].values)  # associate feature 1 with its score in lyric 1\n",
    "features = array(features)\n",
    "\n",
    "# sentences in the experiment\n",
    "text = ['Something that you said burnin\\' in my head',\n",
    "        'Y\\'all want a single say fuck that  \\nFuck that, fuck that  \\nFuck that',\n",
    "        'Naked - naked - just get back to basics  \\nNaked - face it - you can\\'t fake it when youre  \\n',\n",
    "        'All wound up  \\nOn the edge',\n",
    "        'I\\'ve never felt good  \\nI\\'ve never felt bad',\n",
    "        'Shell shock battle fatigue',\n",
    "        'Good morning beautiful, a beautiful day',\n",
    "        'The Humpty Dance is your chance to do the Hump',\n",
    "        'Tears of rage, tears of pain',\n",
    "        'Welcome to the pleasuredome',\n",
    "        'But maybe I\\'m crazy',\n",
    "        'Still I\\'m sad  \\n',\n",
    "        'Promise me love, promise me  \\nKisses sweet love',\n",
    "        'Cry baby cry  \\nMake your mother sigh  \\nShe\\'s old enough to know better.  \\nSo cry baby cry',\n",
    "        'Lover, lover, lover  \\n',\n",
    "        'Never give up  \\nNever hold you head down',\n",
    "        'She\\'s losing,',\n",
    "        'Bitch,  \\nStupid ass bitch',\n",
    "        'If I, if I, if I, if I, if I, if I, if I, if I',\n",
    "        'Damn  \\nDamn girl',\n",
    "        'Kill tonight, kill tonight  \\n',\n",
    "        'But try to find  \\n',\n",
    "        'Tell me why do my tears fall like rain\\?  \\nWorry worry worry',\n",
    "        'I\\'m drowning  \\nAnger my bitter breath',\n",
    "        'Sorry \\(I\\'m sorry\\)',\n",
    "        'Wake up in the morning, my hands cold in fear.',\n",
    "        'All together now  \\n\\(All together now\\)  \\n',\n",
    "        'Her feelings she hides  \\n',\n",
    "        'Boys boys boys  \\nWe like boys in cars  \\nBoys boys boys  \\n',\n",
    "        'He\\'s a woman, she\\'s a man  \\n',\n",
    "        'Mother\\'s pride  \\nBaby boy',\n",
    "        'Strong girl, she\\'s like an ocean',\n",
    "        'He drank Coca-Cola, he was eating Wonder Bread',\n",
    "        ]\n",
    "\n",
    "for i, txt in enumerate(text):  # retrieve feature score for all 33 lyrics\n",
    "    print(i, end='\\r')\n",
    "    total_features[i] = liwc_csv[liwc_csv['C'].str.contains(txt)].iloc[0, 8:].values\n",
    "    \n",
    "print(\"total_features:\", total_features.shape)"
   ]
  },
  {
   "cell_type": "code",
   "execution_count": 173,
   "metadata": {},
   "outputs": [
    {
     "data": {
      "text/plain": [
       "(310543, 11)"
      ]
     },
     "execution_count": 173,
     "metadata": {},
     "output_type": "execute_result"
    }
   ],
   "source": [
    "features.shape"
   ]
  },
  {
   "cell_type": "markdown",
   "metadata": {},
   "source": [
    "# Make Synthetic Dataset"
   ]
  },
  {
   "cell_type": "code",
   "execution_count": 8,
   "metadata": {},
   "outputs": [
    {
     "name": "stdout",
     "output_type": "stream",
     "text": [
      "(30000, 6)\n"
     ]
    }
   ],
   "source": [
    "def punching_data():  # generates many 10 second samples of synthetic punching data\n",
    "    total_time = 250 # nana 250\n",
    "    x = zeros((total_time, 6))  # 250 X 6 template\n",
    "    random_list = [0, 2, 3, 4, 5]\n",
    "    light = [0, 3, 4, 5]#random.sample(random_list, 3)\n",
    "    heavy = [2]#[x for x in random_list if x not in light]\n",
    "\n",
    "    start = np.random.randint(20, 25)\n",
    "    interval = np.random.randint(20, 25)\n",
    "    times = np.random.randint(7, 10)\n",
    "    punch_index = zeros(times, dtype=\"uint8\")\n",
    "    for i in range(times):\n",
    "        punch_index[i] = start + interval * i\n",
    "#         print(\"punch_index[i]:\", punch_index[i])\n",
    "    for i in light:\n",
    "        temp = zeros(total_time)\n",
    "        forces = np.random.randint(250, size=times)\n",
    "        for j in range(times):\n",
    "            temp[punch_index[j]-1:punch_index[j]+1] = forces[j]\n",
    "        x[:, i] = temp\n",
    "        \n",
    "    heavy_start = np.random.randint(50, 100)\n",
    "    heavy_force = np.random.randint(100, 200)\n",
    "    \n",
    "    for i in heavy:\n",
    "        index = 0\n",
    "        forces = np.random.randint(250, size=times)\n",
    "        temp = np.random.randint(heavy_start -5, heavy_start + 5, size=total_time)\n",
    "        for j in range(total_time):\n",
    "            for index in punch_index:\n",
    "                temp[index - 2: index + 3] = np.random.randint(heavy_force - 10, heavy_force + 10, size=5)\n",
    "            \n",
    "        x[:, i] = temp\n",
    "\n",
    "    return x  #/ 1030 (max signal value - so this division would normalize the data to the 0 - 1 scale)\n",
    "              # NOT normalizing the data boosts ML performance for some reason\n",
    "\n",
    "def holding_data():\n",
    "    total_time = 250\n",
    "    x = zeros((total_time, 6))\n",
    "    #random_list = [0, 2, 3, 4, 5]\n",
    "    normal = [0, 2, 3, 4, 5]#random.sample(random_list, 3)\n",
    "    zero = [2]#[x for x in random_list if x not in light]\n",
    "\n",
    "    start_time = np.random.randint(20, 25, size=6)\n",
    "    end_time = np.random.randint(25, 30, size=6)\n",
    "    start_force = np.random.randint(50, 150, size=6)\n",
    "    time_diff = start_force / (end_time - start_time) \n",
    "    holding_force = np.random.randint(50, 175, size=6)\n",
    "    \n",
    "    for i in normal:\n",
    "        temp = zeros(total_time)\n",
    "        for j in range(start_time[i], end_time[i]):\n",
    "            temp[j] = time_diff[i] * (j - start_time[i]) # linear interpolation\n",
    "        temp[end_time[i]] = holding_force[i]\n",
    "        for j in range(end_time[i] + 1, total_time):\n",
    "            temp[j] = np.random.randint(temp[j-1] - 2, temp[j-1] + 3)\n",
    "        x[:, i] = temp\n",
    "\n",
    "    return x #/ 1030.\n",
    "\n",
    "def stroking_data():\n",
    "    total_time = 250\n",
    "    x = zeros((total_time, 6))\n",
    "    \n",
    "    start_time = np.random.randint(20 ,25)\n",
    "    start_force = np.random.randint(50, 150)\n",
    "    interval_time = np.random.randint(6, 9)\n",
    "    interval_point = (250 - start_time) // interval_time\n",
    "    interval_duration = np.random.randint(10, 13, size=interval_time)\n",
    "    interval_force = np.random.randint(150, 300, size=interval_time)\n",
    "    \n",
    "    temp = zeros(total_time)\n",
    "    for i in range(total_time):\n",
    "        temp[i] = random.randint(start_force - 5, start_force + 6)\n",
    "    \n",
    "    for i in range(interval_time):\n",
    "        point = interval_point * (i + 1)\n",
    "        force = interval_force[i]\n",
    "        duration = interval_duration[i]\n",
    "        for j in range(duration):\n",
    "            temp_force = (force - start_force) // duration * j + start_force \n",
    "            temp_force = np.random.randint(temp_force - 10, temp_force + 11) # adding noise \n",
    "            if point + j < 250:\n",
    "                temp[point + j] = temp_force\n",
    "            \n",
    "        for j in range(duration, duration * 2):\n",
    "            temp_force = (start_force - force) // duration * (j - duration) + force\n",
    "            temp_force = np.random.randint(temp_force - 10, temp_force + 11)\n",
    "            if point + j < 250:\n",
    "                temp[point + j] = temp_force\n",
    "    \n",
    "    x[:, 2] = temp\n",
    "\n",
    "    return x #/ 1030. ?? Nana\n",
    "\n",
    "total_num = 40  # make 10000 samples for each touch type. Change 1000 to 10000 Nana\n",
    "a = zeros((total_num, 250, 6))\n",
    "b = zeros((total_num, 250, 6))\n",
    "c = zeros((total_num, 250, 6))\n",
    "for i in range(total_num):\n",
    "#     print(\"i / total_num :\", str(i / total_num *  100) + '%', end='\\r')\n",
    "    a[i] = punching_data()\n",
    "    b[i] = holding_data()\n",
    "    c[i] = stroking_data()\n",
    "# After creating enough samples into the text files, run cell again by commenting out a, b, c to convert t to 3D\n",
    "a = a.flatten().reshape(a.shape[0]*a.shape[1], a.shape[2])\n",
    "np.savetxt('Experiment/punching.txt', a)\n",
    "\n",
    "b = b.flatten().reshape(b.shape[0]*b.shape[1], b.shape[2])\n",
    "np.savetxt('Experiment/holding.txt', b)\n",
    "\n",
    "c = c.flatten().reshape(c.shape[0]*c.shape[1], c.shape[2])\n",
    "np.savetxt('Experiment/stroking.txt', c)\n",
    "\n",
    "t_2d = np.concatenate((a, b, c), axis=0)  # leave the synthetic data in the variable t\n",
    "# np.savetxt('Experiment/punching.txt', t)\n",
    "random.shuffle(t_2d)\n",
    "# del a, b, c\n",
    "print(t_2d.shape)"
   ]
  },
  {
   "cell_type": "markdown",
   "metadata": {},
   "source": [
    "# Convert t to 3D"
   ]
  },
  {
   "cell_type": "code",
   "execution_count": 9,
   "metadata": {},
   "outputs": [],
   "source": [
    "a = zeros((total_num, 250, 6))\n",
    "b = zeros((total_num, 250, 6))\n",
    "c = zeros((total_num, 250, 6))\n",
    "for i in range(total_num):\n",
    "#     print(\"i / total_num :\", str(i / total_num *  100) + '%', end='\\r')\n",
    "    a[i] = punching_data()\n",
    "    b[i] = holding_data()\n",
    "    c[i] = stroking_data()\n",
    "\n",
    "\n",
    "t = np.concatenate((a, b, c), axis=0)  # leave the synthetic data in the variable t\n",
    "# np.savetxt('Experiment/punching.txt', t)\n",
    "random.shuffle(t)"
   ]
  },
  {
   "cell_type": "markdown",
   "metadata": {},
   "source": [
    "# Make sure t is 3D "
   ]
  },
  {
   "cell_type": "code",
   "execution_count": 10,
   "metadata": {},
   "outputs": [
    {
     "data": {
      "text/plain": [
       "(120, 250, 6)"
      ]
     },
     "execution_count": 10,
     "metadata": {},
     "output_type": "execute_result"
    }
   ],
   "source": [
    "# After creating enough samples into the text files, run cell again by commenting out a, b, c to convert t to 3D\n",
    "t.shape # t should have 3D dimension for training"
   ]
  },
  {
   "cell_type": "code",
   "execution_count": 366,
   "metadata": {},
   "outputs": [
    {
     "data": {
      "text/plain": [
       "(119337, 250, 6)"
      ]
     },
     "execution_count": 366,
     "metadata": {},
     "output_type": "execute_result"
    }
   ],
   "source": [
    "total_touch.shape"
   ]
  },
  {
   "cell_type": "markdown",
   "metadata": {},
   "source": [
    "## Flatten dataset from 3D to 2D"
   ]
  },
  {
   "cell_type": "code",
   "execution_count": 368,
   "metadata": {},
   "outputs": [
    {
     "data": {
      "text/plain": [
       "(29834250, 6)"
      ]
     },
     "execution_count": 368,
     "metadata": {},
     "output_type": "execute_result"
    }
   ],
   "source": [
    "# Flatten data based on columns which represnet the number of sensors\n",
    "total_touch_np_array = np.array(total_touch).astype(np.float64)\n",
    "total_touch_np_array_flatten = total_touch_np_array.flatten().reshape(total_touch_np_array.shape[0]*total_touch_np_array.shape[1], total_touch_np_array.shape[2])\n",
    "total_touch_np_array_flatten.shape"
   ]
  },
  {
   "cell_type": "code",
   "execution_count": 370,
   "metadata": {},
   "outputs": [
    {
     "data": {
      "text/plain": [
       "<AxesSubplot:>"
      ]
     },
     "execution_count": 370,
     "metadata": {},
     "output_type": "execute_result"
    },
    {
     "data": {
      "image/png": "[encoded data removed]",
      "text/plain": [
       "<Figure size 432x288 with 1 Axes>"
      ]
     },
     "metadata": {
      "needs_background": "light"
     },
     "output_type": "display_data"
    }
   ],
   "source": [
    "# Boxplot to visualize every sensor of data\n",
    "import seaborn as sns\n",
    "\n",
    "all_arr = [total_touch_np_array_flatten[:,0],\n",
    "           total_touch_np_array_flatten[:,1],\n",
    "           total_touch_np_array_flatten[:,2],\n",
    "           total_touch_np_array_flatten[:,3],\n",
    "           total_touch_np_array_flatten[:,4],\n",
    "           total_touch_np_array_flatten[:,5]]\n",
    "sns.boxplot(data=all_arr) #, showfliers=False"
   ]
  },
  {
   "cell_type": "code",
   "execution_count": 371,
   "metadata": {},
   "outputs": [
    {
     "name": "stdout",
     "output_type": "stream",
     "text": [
      "Q3:: 0    0.047312\n",
      "Name: 0.75, dtype: float64 Q1:: 0    0.0\n",
      "Name: 0.25, dtype: float64\n",
      "upper_extreme: 0    0.11828\n",
      "dtype: float64 lower_extreme: 0   -0.070968\n",
      "dtype: float64\n"
     ]
    },
    {
     "data": {
      "text/plain": [
       "0.11701716205517598"
      ]
     },
     "execution_count": 371,
     "metadata": {},
     "output_type": "execute_result"
    },
    {
     "data": {
      "image/png": "[encoded data removed]",
      "text/plain": [
       "<Figure size 432x288 with 1 Axes>"
      ]
     },
     "metadata": {
      "needs_background": "light"
     },
     "output_type": "display_data"
    }
   ],
   "source": [
    "# from sklearn.preprocessing import scale, normalize, minmax_scale\n",
    "\n",
    "# scale_C = scale(total_touch_np_array_flatten[:, 3])\n",
    "# df = pd.DataFrame(scale_C)\n",
    "# df.hist(bins=10)\n",
    "\n",
    "from sklearn.preprocessing import scale, normalize, minmax_scale\n",
    "\n",
    "scale_C = minmax_scale(total_touch_np_array_flatten[:, 2], feature_range=(0, 1)) # 2 is third sensor values\n",
    "df = pd.DataFrame(scale_C) \n",
    "# df.hist(bins=10)\n",
    "df.boxplot()\n",
    "\n",
    "Q1 = df.quantile(0.25)\n",
    "Q3 = df.quantile(0.75)\n",
    "\n",
    "print(\"Q3::\", Q3, \"Q1::\", Q1)\n",
    "IQR = Q3 - Q1\n",
    "upper_extreme = Q3 + (1.5 * IQR)\n",
    "lower_extreme = Q1 - (1.5 * IQR)\n",
    "print(\"upper_extreme:\",upper_extreme, \"lower_extreme:\", lower_extreme)\n",
    "np.std(scale_C)\n"
   ]
  },
  {
   "cell_type": "code",
   "execution_count": 11,
   "metadata": {},
   "outputs": [
    {
     "data": {
      "text/plain": [
       "(29250, 250, 6)"
      ]
     },
     "execution_count": 11,
     "metadata": {},
     "output_type": "execute_result"
    }
   ],
   "source": [
    "#%%time\n",
    "# add in the hand-collected touch data for three touch types (experimenter generated data)\n",
    "# dirs = 'Experiment/'\n",
    "dirs = 'ExperimentSmall/'\n",
    "touch_type = ['stroking', 'punching', 'holding'] #nana: ['stroking', 'punching', 'squeezing']\n",
    "touch_len = 250\n",
    "training_touch = []\n",
    "\n",
    "for i in touch_type:\n",
    "    temp_touch = []\n",
    "    with open(dirs + i + '.txt', 'r') as f:\n",
    "        \n",
    "        for i, line in enumerate(f):\n",
    "            \n",
    "            temp_touch.append(line.split()) #Nana: temp_touch.append(line.split()[0].split(','))\n",
    "#     print(shape(temp_touch))       \n",
    "    for j in range(len(temp_touch)-touch_len): # here we have time window\n",
    "        training_touch.append(temp_touch[j:j+touch_len]) \n",
    "        \n",
    "training_touch = array(training_touch)  # holds the hand generated data\n",
    "training_touch.shape  # c. 20,000 samples\n",
    "# Training touch comes from shifting one time window of Synthetic touch data \n",
    "# ----\n",
    "#  ----\n",
    "#   ----\n",
    "#    ----"
   ]
  },
  {
   "cell_type": "markdown",
   "metadata": {},
   "source": [
    "# creating the stage 1 auto-encoder model"
   ]
  },
  {
   "cell_type": "code",
   "execution_count": 12,
   "metadata": {},
   "outputs": [
    {
     "name": "stdout",
     "output_type": "stream",
     "text": [
      "Model: \"model\"\n",
      "_________________________________________________________________\n",
      "Layer (type)                 Output Shape              Param #   \n",
      "=================================================================\n",
      "input_1 (InputLayer)         [(None, 250, 6)]          0         \n",
      "_________________________________________________________________\n",
      "conv1d (Conv1D)              (None, 250, 64)           3520      \n",
      "_________________________________________________________________\n",
      "batch_normalization (BatchNo (None, 250, 64)           256       \n",
      "_________________________________________________________________\n",
      "dropout (Dropout)            (None, 250, 64)           0         \n",
      "_________________________________________________________________\n",
      "max_pooling1d (MaxPooling1D) (None, 50, 64)            0         \n",
      "_________________________________________________________________\n",
      "conv1d_1 (Conv1D)            (None, 50, 128)           73856     \n",
      "_________________________________________________________________\n",
      "batch_normalization_1 (Batch (None, 50, 128)           512       \n",
      "_________________________________________________________________\n",
      "dropout_1 (Dropout)          (None, 50, 128)           0         \n",
      "_________________________________________________________________\n",
      "max_pooling1d_1 (MaxPooling1 (None, 10, 128)           0         \n",
      "_________________________________________________________________\n",
      "flatten (Flatten)            (None, 1280)              0         \n",
      "_________________________________________________________________\n",
      "dense (Dense)                (None, 256)               327936    \n",
      "_________________________________________________________________\n",
      "dense_1 (Dense)              (None, 1280)              328960    \n",
      "_________________________________________________________________\n",
      "reshape (Reshape)            (None, 10, 128)           0         \n",
      "_________________________________________________________________\n",
      "up_sampling1d (UpSampling1D) (None, 50, 128)           0         \n",
      "_________________________________________________________________\n",
      "conv1d_2 (Conv1D)            (None, 50, 128)           147584    \n",
      "_________________________________________________________________\n",
      "batch_normalization_2 (Batch (None, 50, 128)           512       \n",
      "_________________________________________________________________\n",
      "dropout_2 (Dropout)          (None, 50, 128)           0         \n",
      "_________________________________________________________________\n",
      "up_sampling1d_1 (UpSampling1 (None, 250, 128)          0         \n",
      "_________________________________________________________________\n",
      "conv1d_3 (Conv1D)            (None, 250, 64)           73792     \n",
      "_________________________________________________________________\n",
      "batch_normalization_3 (Batch (None, 250, 64)           256       \n",
      "_________________________________________________________________\n",
      "dropout_3 (Dropout)          (None, 250, 64)           0         \n",
      "_________________________________________________________________\n",
      "dense_2 (Dense)              (None, 250, 6)            390       \n",
      "=================================================================\n",
      "Total params: 957,574\n",
      "Trainable params: 956,806\n",
      "Non-trainable params: 768\n",
      "_________________________________________________________________\n"
     ]
    }
   ],
   "source": [
    "\n",
    "    # elu is variant on relu (use instead of tanh), chosen because it treats negative weight values well\n",
    "    # using relu caused some weights to hit zero (bad)\n",
    "auto_input = layers.Input(shape=(250, 6)) #input shape\n",
    "x = layers.Conv1D(64, 9, activation='elu', padding='same')(auto_input)  #feed input layer to next convolutional layer\n",
    "x = layers.BatchNormalization()(x)  # normalization after activation function here\n",
    "x = layers.Dropout(0.5)(x)          # deactivates half of parameters at random on each batch to avoid overfitting\n",
    "x = layers.MaxPooling1D(5)(x)       # downsample with a window of 5\n",
    "x = layers.Conv1D(128, 9, activation='elu', padding='same')(x)\n",
    "x = layers.BatchNormalization()(x)\n",
    "x = layers.Dropout(0.5)(x)\n",
    "x = layers.MaxPooling1D(5)(x)\n",
    "\n",
    "shape = K.int_shape(x)[1:]          # saves the shape for later upsampling\n",
    "x = layers.Flatten()(x)\n",
    "x = layers.Dense(256, activation='elu')(x)\n",
    "embedded = x                        # saves the encoder in 'embedded' touch (a 256 member vector)\n",
    "\n",
    "# define decoder as logical inverse of encoder\n",
    "x = layers.Dense(prod(shape))(x)    # maps embedded layer output into shape\n",
    "x = layers.Reshape(shape)(x)\n",
    "x = layers.UpSampling1D(5)(x)\n",
    "x = layers.Conv1D(128, 9, activation='elu', padding='same')(x)  \n",
    "x = layers.BatchNormalization()(x)\n",
    "x = layers.Dropout(0.5)(x)\n",
    "x = layers.UpSampling1D(5)(x)\n",
    "x = layers.Conv1D(64, 9, activation='elu', padding='same')(x)\n",
    "x = layers.BatchNormalization()(x)\n",
    "x = layers.Dropout(0.5)(x)\n",
    "\n",
    "x = layers.Dense(6)(x)\n",
    "\n",
    "auto_1 = Model(auto_input, x)  # entire model\n",
    "auto_1.compile(optimizer='RMSprop', loss='mse')  # can use ADAM in place of RMSprop, \n",
    "# mean absolute error vs mse\n",
    "auto_1.summary()"
   ]
  },
  {
   "cell_type": "code",
   "execution_count": 13,
   "metadata": {},
   "outputs": [
    {
     "data": {
      "text/plain": [
       "((96, 250, 6), (96, 250, 6))"
      ]
     },
     "execution_count": 13,
     "metadata": {},
     "output_type": "execute_result"
    }
   ],
   "source": [
    "# auto_1.get_weights()\n",
    "from sklearn.model_selection import train_test_split\n",
    "X_train, X_test, y_train, y_test = train_test_split(t, t, test_size=0.2)\n",
    "X_train.shape, y_train.shape"
   ]
  },
  {
   "cell_type": "markdown",
   "metadata": {},
   "source": [
    "### validation_split is activated"
   ]
  },
  {
   "cell_type": "code",
   "execution_count": 14,
   "metadata": {},
   "outputs": [],
   "source": [
    "auto_1 = load_model('test')"
   ]
  },
  {
   "cell_type": "code",
   "execution_count": 16,
   "metadata": {},
   "outputs": [],
   "source": [
    "# auto_1.get_weights()"
   ]
  },
  {
   "cell_type": "code",
   "execution_count": 18,
   "metadata": {},
   "outputs": [
    {
     "name": "stdout",
     "output_type": "stream",
     "text": [
      "Epoch 1/10\n",
      "WARNING:tensorflow:AutoGraph could not transform <function Model.make_train_function.<locals>.train_function at 0x17f30e550> and will run it as-is.\n",
      "Please report this to the TensorFlow team. When filing the bug, set the verbosity to 10 (on Linux, `export AUTOGRAPH_VERBOSITY=10`) and attach the full output.\n",
      "Cause: unsupported operand type(s) for -: 'NoneType' and 'int'\n",
      "To silence this warning, decorate the function with @tf.autograph.experimental.do_not_convert\n",
      "WARNING: AutoGraph could not transform <function Model.make_train_function.<locals>.train_function at 0x17f30e550> and will run it as-is.\n",
      "Please report this to the TensorFlow team. When filing the bug, set the verbosity to 10 (on Linux, `export AUTOGRAPH_VERBOSITY=10`) and attach the full output.\n",
      "Cause: unsupported operand type(s) for -: 'NoneType' and 'int'\n",
      "To silence this warning, decorate the function with @tf.autograph.experimental.do_not_convert\n"
     ]
    },
    {
     "name": "stderr",
     "output_type": "stream",
     "text": [
      "2021-07-26 17:56:27.159668: I tensorflow/compiler/mlir/mlir_graph_optimization_pass.cc:116] None of the MLIR optimization passes are enabled (registered 2)\n",
      "2021-07-26 17:56:27.159886: W tensorflow/core/platform/profile_utils/cpu_utils.cc:126] Failed to get CPU frequency: 0 Hz\n"
     ]
    },
    {
     "name": "stdout",
     "output_type": "stream",
     "text": [
      "15/15 [==============================] - 1s 14ms/step - loss: 4126.0259\n",
      "Epoch 2/10\n",
      "15/15 [==============================] - 0s 14ms/step - loss: 4027.2820\n",
      "Epoch 3/10\n",
      "15/15 [==============================] - 0s 14ms/step - loss: 3961.4272\n",
      "Epoch 4/10\n",
      "15/15 [==============================] - 0s 14ms/step - loss: 3892.3494\n",
      "Epoch 5/10\n",
      "15/15 [==============================] - 0s 14ms/step - loss: 3780.9106\n",
      "Epoch 6/10\n",
      "15/15 [==============================] - 0s 14ms/step - loss: 3700.4622\n",
      "Epoch 7/10\n",
      "15/15 [==============================] - 0s 14ms/step - loss: 3617.6340\n",
      "Epoch 8/10\n",
      "15/15 [==============================] - 0s 14ms/step - loss: 3609.8838\n",
      "Epoch 9/10\n",
      "15/15 [==============================] - 0s 14ms/step - loss: 3487.0078\n",
      "Epoch 10/10\n",
      "15/15 [==============================] - 0s 14ms/step - loss: 3448.2292\n"
     ]
    }
   ],
   "source": [
    "# train full autoencoder on synthetic data\n",
    "history_synthetic = auto_1.fit(t, t, \n",
    "         epochs= 10, # epochs=5 bud nana\n",
    "         batch_size=8,\n",
    "         shuffle=True,\n",
    "#          validation_split=0.2,\n",
    "         );"
   ]
  },
  {
   "cell_type": "code",
   "execution_count": 13,
   "metadata": {},
   "outputs": [
    {
     "name": "stdout",
     "output_type": "stream",
     "text": [
      "Epoch 1/100\n",
      "15/15 [==============================] - 0s 14ms/step - loss: 3524.1418\n",
      "Epoch 2/100\n",
      "15/15 [==============================] - 0s 14ms/step - loss: 3534.5242\n",
      "Epoch 3/100\n",
      "15/15 [==============================] - 0s 14ms/step - loss: 3389.1809\n",
      "Epoch 4/100\n",
      "15/15 [==============================] - 0s 14ms/step - loss: 3300.8289\n",
      "Epoch 5/100\n",
      "15/15 [==============================] - 0s 14ms/step - loss: 3276.0312\n",
      "Epoch 6/100\n",
      "15/15 [==============================] - 0s 14ms/step - loss: 3210.0730\n",
      "Epoch 7/100\n",
      "15/15 [==============================] - 0s 14ms/step - loss: 3107.8726\n",
      "Epoch 8/100\n",
      "15/15 [==============================] - 0s 14ms/step - loss: 3049.2542\n",
      "Epoch 9/100\n",
      "15/15 [==============================] - 0s 14ms/step - loss: 3008.3557\n",
      "Epoch 10/100\n",
      "15/15 [==============================] - 0s 14ms/step - loss: 2982.1418\n",
      "Epoch 11/100\n",
      "15/15 [==============================] - 0s 14ms/step - loss: 2884.0178\n",
      "Epoch 12/100\n",
      "15/15 [==============================] - 0s 15ms/step - loss: 2899.3083\n",
      "Epoch 13/100\n",
      "15/15 [==============================] - 0s 14ms/step - loss: 2721.7930\n",
      "Epoch 14/100\n",
      "15/15 [==============================] - 0s 14ms/step - loss: 2663.5442\n",
      "Epoch 15/100\n",
      "15/15 [==============================] - 0s 15ms/step - loss: 2710.6072\n",
      "Epoch 16/100\n",
      "15/15 [==============================] - 0s 14ms/step - loss: 2566.7849\n",
      "Epoch 17/100\n",
      "15/15 [==============================] - 0s 14ms/step - loss: 2505.2834\n",
      "Epoch 18/100\n",
      "15/15 [==============================] - 0s 15ms/step - loss: 2417.2815\n",
      "Epoch 19/100\n",
      "15/15 [==============================] - 0s 14ms/step - loss: 2371.1919\n",
      "Epoch 20/100\n",
      "15/15 [==============================] - 0s 14ms/step - loss: 2338.2039\n",
      "Epoch 21/100\n",
      "15/15 [==============================] - 0s 14ms/step - loss: 2289.3074\n",
      "Epoch 22/100\n",
      "15/15 [==============================] - 0s 14ms/step - loss: 2220.6079\n",
      "Epoch 23/100\n",
      "15/15 [==============================] - 0s 14ms/step - loss: 2321.6804\n",
      "Epoch 24/100\n",
      "15/15 [==============================] - 0s 14ms/step - loss: 2151.9111\n",
      "Epoch 25/100\n",
      "15/15 [==============================] - 0s 14ms/step - loss: 2071.9766\n",
      "Epoch 26/100\n",
      "15/15 [==============================] - 0s 14ms/step - loss: 2106.9050\n",
      "Epoch 27/100\n",
      "15/15 [==============================] - 0s 14ms/step - loss: 2081.9458\n",
      "Epoch 28/100\n",
      "15/15 [==============================] - 0s 15ms/step - loss: 2048.9980\n",
      "Epoch 29/100\n",
      "15/15 [==============================] - 0s 14ms/step - loss: 1985.8268\n",
      "Epoch 30/100\n",
      "15/15 [==============================] - 0s 14ms/step - loss: 1971.6667\n",
      "Epoch 31/100\n",
      "15/15 [==============================] - 0s 14ms/step - loss: 1890.3920\n",
      "Epoch 32/100\n",
      "15/15 [==============================] - 0s 14ms/step - loss: 1741.6987\n",
      "Epoch 33/100\n",
      "15/15 [==============================] - 0s 15ms/step - loss: 1834.1078\n",
      "Epoch 34/100\n",
      "15/15 [==============================] - 0s 14ms/step - loss: 1682.9167\n",
      "Epoch 35/100\n",
      "15/15 [==============================] - 0s 14ms/step - loss: 1740.2893\n",
      "Epoch 36/100\n",
      "15/15 [==============================] - 0s 14ms/step - loss: 1721.8425\n",
      "Epoch 37/100\n",
      "15/15 [==============================] - 0s 15ms/step - loss: 1719.0715\n",
      "Epoch 38/100\n",
      "15/15 [==============================] - 0s 14ms/step - loss: 1634.0892\n",
      "Epoch 39/100\n",
      "15/15 [==============================] - 0s 14ms/step - loss: 1621.4205\n",
      "Epoch 40/100\n",
      "15/15 [==============================] - 0s 14ms/step - loss: 1598.4380\n",
      "Epoch 41/100\n",
      "15/15 [==============================] - 0s 14ms/step - loss: 1634.5177\n",
      "Epoch 42/100\n",
      "15/15 [==============================] - 0s 14ms/step - loss: 1595.1591\n",
      "Epoch 43/100\n",
      "15/15 [==============================] - 0s 14ms/step - loss: 1511.5112\n",
      "Epoch 44/100\n",
      "15/15 [==============================] - 0s 14ms/step - loss: 1472.4164\n",
      "Epoch 45/100\n",
      "15/15 [==============================] - 0s 14ms/step - loss: 1436.7109\n",
      "Epoch 46/100\n",
      "15/15 [==============================] - 0s 14ms/step - loss: 1415.6907\n",
      "Epoch 47/100\n",
      "15/15 [==============================] - 0s 14ms/step - loss: 1455.6411\n",
      "Epoch 48/100\n",
      "15/15 [==============================] - 0s 14ms/step - loss: 1385.4567\n",
      "Epoch 49/100\n",
      "15/15 [==============================] - 0s 14ms/step - loss: 1395.9436\n",
      "Epoch 50/100\n",
      "15/15 [==============================] - 0s 14ms/step - loss: 1392.8744\n",
      "Epoch 51/100\n",
      "15/15 [==============================] - 0s 14ms/step - loss: 1388.5920\n",
      "Epoch 52/100\n",
      "15/15 [==============================] - 0s 14ms/step - loss: 1277.5522\n",
      "Epoch 53/100\n",
      "15/15 [==============================] - 0s 14ms/step - loss: 1309.7374\n",
      "Epoch 54/100\n",
      "15/15 [==============================] - 0s 14ms/step - loss: 1172.8126\n",
      "Epoch 55/100\n",
      "15/15 [==============================] - 0s 14ms/step - loss: 1296.7689\n",
      "Epoch 56/100\n",
      "15/15 [==============================] - 0s 14ms/step - loss: 1185.5715\n",
      "Epoch 57/100\n",
      "15/15 [==============================] - 0s 14ms/step - loss: 1157.5353\n",
      "Epoch 58/100\n",
      "15/15 [==============================] - 0s 14ms/step - loss: 1188.0870\n",
      "Epoch 59/100\n",
      "15/15 [==============================] - 0s 14ms/step - loss: 1111.5375\n",
      "Epoch 60/100\n",
      "15/15 [==============================] - 0s 14ms/step - loss: 1165.9303\n",
      "Epoch 61/100\n",
      "15/15 [==============================] - 0s 14ms/step - loss: 1140.7421\n",
      "Epoch 62/100\n",
      "15/15 [==============================] - 0s 15ms/step - loss: 1032.0922\n",
      "Epoch 63/100\n",
      "15/15 [==============================] - 0s 15ms/step - loss: 1103.3102\n",
      "Epoch 64/100\n",
      "15/15 [==============================] - 0s 14ms/step - loss: 1001.2382\n",
      "Epoch 65/100\n",
      "15/15 [==============================] - 0s 14ms/step - loss: 1031.0438\n",
      "Epoch 66/100\n",
      "15/15 [==============================] - 0s 14ms/step - loss: 978.6909\n",
      "Epoch 67/100\n",
      "15/15 [==============================] - 0s 14ms/step - loss: 1038.5062\n",
      "Epoch 68/100\n",
      "15/15 [==============================] - 0s 14ms/step - loss: 962.9283\n",
      "Epoch 69/100\n",
      "15/15 [==============================] - 0s 14ms/step - loss: 1083.2446\n",
      "Epoch 70/100\n",
      "15/15 [==============================] - 0s 14ms/step - loss: 905.6764\n",
      "Epoch 71/100\n",
      "15/15 [==============================] - 0s 14ms/step - loss: 931.8547\n",
      "Epoch 72/100\n",
      "15/15 [==============================] - 0s 14ms/step - loss: 898.9278\n",
      "Epoch 73/100\n",
      "15/15 [==============================] - 0s 14ms/step - loss: 882.9456\n",
      "Epoch 74/100\n",
      "15/15 [==============================] - 0s 14ms/step - loss: 842.8235\n",
      "Epoch 75/100\n",
      "15/15 [==============================] - 0s 14ms/step - loss: 907.1666\n",
      "Epoch 76/100\n",
      "15/15 [==============================] - 0s 14ms/step - loss: 850.2780\n",
      "Epoch 77/100\n",
      "15/15 [==============================] - 0s 14ms/step - loss: 844.7063\n",
      "Epoch 78/100\n",
      "15/15 [==============================] - 0s 14ms/step - loss: 859.7845\n",
      "Epoch 79/100\n",
      "15/15 [==============================] - 0s 14ms/step - loss: 858.0104\n",
      "Epoch 80/100\n",
      "15/15 [==============================] - 0s 14ms/step - loss: 824.9079\n",
      "Epoch 81/100\n",
      "15/15 [==============================] - 0s 14ms/step - loss: 853.6212\n",
      "Epoch 82/100\n",
      "15/15 [==============================] - 0s 14ms/step - loss: 798.2416\n",
      "Epoch 83/100\n",
      "15/15 [==============================] - 0s 14ms/step - loss: 790.5588\n",
      "Epoch 84/100\n",
      "15/15 [==============================] - 0s 14ms/step - loss: 777.8295\n",
      "Epoch 85/100\n",
      "15/15 [==============================] - 0s 14ms/step - loss: 828.1945\n",
      "Epoch 86/100\n",
      "15/15 [==============================] - 0s 14ms/step - loss: 719.7462\n",
      "Epoch 87/100\n",
      "15/15 [==============================] - 0s 14ms/step - loss: 877.5170\n",
      "Epoch 88/100\n",
      "15/15 [==============================] - 0s 14ms/step - loss: 765.5164\n",
      "Epoch 89/100\n",
      "15/15 [==============================] - 0s 14ms/step - loss: 855.8485\n",
      "Epoch 90/100\n",
      "15/15 [==============================] - 0s 14ms/step - loss: 712.5142\n",
      "Epoch 91/100\n",
      "15/15 [==============================] - 0s 14ms/step - loss: 908.8378\n",
      "Epoch 92/100\n",
      "15/15 [==============================] - 0s 14ms/step - loss: 721.1292\n",
      "Epoch 93/100\n",
      "15/15 [==============================] - 0s 14ms/step - loss: 796.8606\n",
      "Epoch 94/100\n",
      "15/15 [==============================] - 0s 14ms/step - loss: 892.0540\n",
      "Epoch 95/100\n",
      "15/15 [==============================] - 0s 14ms/step - loss: 833.1530\n",
      "Epoch 96/100\n",
      "15/15 [==============================] - 0s 14ms/step - loss: 838.3242\n",
      "Epoch 97/100\n",
      "15/15 [==============================] - 0s 14ms/step - loss: 740.7870\n",
      "Epoch 98/100\n",
      "15/15 [==============================] - 0s 14ms/step - loss: 809.9928\n",
      "Epoch 99/100\n",
      "15/15 [==============================] - 0s 14ms/step - loss: 734.7926\n",
      "Epoch 100/100\n",
      "15/15 [==============================] - 0s 14ms/step - loss: 680.1087\n"
     ]
    }
   ],
   "source": [
    "# train full autoencoder on synthetic data\n",
    "history_synthetic = auto_1.fit(t, t, \n",
    "         epochs= 100, # epochs=5 bud nana\n",
    "         batch_size=8,\n",
    "         shuffle=True,\n",
    "#          validation_split=0.2,\n",
    "         );"
   ]
  },
  {
   "cell_type": "code",
   "execution_count": 22,
   "metadata": {},
   "outputs": [
    {
     "data": {
      "image/png": "[encoded data removed]",
      "text/plain": [
       "<Figure size 432x288 with 1 Axes>"
      ]
     },
     "metadata": {
      "needs_background": "light"
     },
     "output_type": "display_data"
    }
   ],
   "source": [
    "import matplotlib.pyplot as plt\n",
    "# Plot training & validation loss values\n",
    "plt.plot(history_synthetic.history['loss'])\n",
    "# plt.plot(history_synthetic.history['val_loss'])\n",
    "plt.title('Model_loss_Synthetic')\n",
    "plt.ylabel('Loss')\n",
    "plt.xlabel('Epoch')\n",
    "plt.legend(['Train', 'Valid'], loc='upper left')\n",
    "plt.grid(True)\n",
    "# plt.xticks(np.arange(1, 100, 5))\n",
    "plt.show()\n"
   ]
  },
  {
   "cell_type": "markdown",
   "metadata": {},
   "source": [
    "### Study the first stage model auto_1"
   ]
  },
  {
   "cell_type": "code",
   "execution_count": 20,
   "metadata": {},
   "outputs": [],
   "source": [
    "y = auto_1.predict(t) # First run auto_1.evaluate(t) then run auto_1.predict(t) to avoid kernel dying "
   ]
  },
  {
   "cell_type": "code",
   "execution_count": 189,
   "metadata": {},
   "outputs": [
    {
     "name": "stdout",
     "output_type": "stream",
     "text": [
      "t_shape is: (120, 250, 6)\n"
     ]
    }
   ],
   "source": [
    "print(\"t_shape is:\", t.shape)\n",
    "import logging\n",
    "import tensorflow\n",
    "tensorflow.autograph.set_verbosity(0)\n",
    "logging.getLogger(\"tensorflow\").setLevel(logging.ERROR)\n",
    "\n",
    "auto_1.save('test')"
   ]
  },
  {
   "cell_type": "code",
   "execution_count": 15,
   "metadata": {},
   "outputs": [
    {
     "name": "stdout",
     "output_type": "stream",
     "text": [
      "t_shape is: (120, 250, 6)\n",
      "WARNING:tensorflow:AutoGraph could not transform <function canonicalize_signatures.<locals>.signature_wrapper at 0x2ae877700> and will run it as-is.\n",
      "Please report this to the TensorFlow team. When filing the bug, set the verbosity to 10 (on Linux, `export AUTOGRAPH_VERBOSITY=10`) and attach the full output.\n",
      "Cause: unsupported operand type(s) for -: 'NoneType' and 'int'\n",
      "To silence this warning, decorate the function with @tf.autograph.experimental.do_not_convert\n",
      "WARNING: AutoGraph could not transform <function canonicalize_signatures.<locals>.signature_wrapper at 0x2ae877700> and will run it as-is.\n",
      "Please report this to the TensorFlow team. When filing the bug, set the verbosity to 10 (on Linux, `export AUTOGRAPH_VERBOSITY=10`) and attach the full output.\n",
      "Cause: unsupported operand type(s) for -: 'NoneType' and 'int'\n",
      "To silence this warning, decorate the function with @tf.autograph.experimental.do_not_convert\n"
     ]
    },
    {
     "name": "stderr",
     "output_type": "stream",
     "text": [
      "/Users/nana/miniforge3/envs/tensorflow/lib/python3.8/site-packages/tensorflow/python/keras/engine/training.py:2325: UserWarning: `Model.state_updates` will be removed in a future version. This property should not be used in TensorFlow 2.0, as `updates` are applied automatically.\n",
      "  warnings.warn('`Model.state_updates` will be removed in a future version. '\n",
      "2021-07-26 16:53:31.702034: W tensorflow/python/util/util.cc:348] Sets are not currently considered sequences, but this may change in the future, so consider avoiding using them.\n",
      "/Users/nana/miniforge3/envs/tensorflow/lib/python3.8/site-packages/tensorflow/python/keras/engine/base_layer.py:1397: UserWarning: `layer.updates` will be removed in a future version. This property should not be used in TensorFlow 2.0, as `updates` are applied automatically.\n",
      "  warnings.warn('`layer.updates` will be removed in a future version. '\n"
     ]
    },
    {
     "name": "stdout",
     "output_type": "stream",
     "text": [
      "WARNING:tensorflow:FOR KERAS USERS: The object that you are saving contains one or more Keras models or layers. If you are loading the SavedModel with `tf.keras.models.load_model`, continue reading (otherwise, you may ignore the following instructions). Please change your code to save with `tf.keras.models.save_model` or `model.save`, and confirm that the file \"keras.metadata\" exists in the export directory. In the future, Keras will only load the SavedModels that have this file. In other words, `tf.saved_model.save` will no longer write SavedModels that can be recovered as Keras models (this will apply in TF 2.5).\n",
      "\n",
      "FOR DEVS: If you are overwriting _tracking_metadata in your class, this property has been used to save metadata in the SavedModel. The metadta field will be deprecated soon, so please move the metadata to a different file.\n",
      "INFO:tensorflow:Assets written to: test/assets\n"
     ]
    }
   ],
   "source": [
    "print(\"t_shape is:\", t.shape)\n",
    "auto_1.save('test')"
   ]
  },
  {
   "cell_type": "code",
   "execution_count": 21,
   "metadata": {},
   "outputs": [
    {
     "data": {
      "text/plain": [
       "(30000, 6)"
      ]
     },
     "execution_count": 21,
     "metadata": {},
     "output_type": "execute_result"
    }
   ],
   "source": [
    "y = auto_1.predict(t)\n",
    "# t[0:1,:,:].shape\n",
    "# Flatten data based on columns which represnet the number of sensors\n",
    "y_np_array = np.array(y) # .astype(np.float)\n",
    "\n",
    "y_np_array_flatten = y_np_array.flatten().reshape(y_np_array.shape[0]*y_np_array.shape[1], y_np_array.shape[2])\n",
    "y_np_array_flatten.shape"
   ]
  },
  {
   "cell_type": "code",
   "execution_count": 181,
   "metadata": {},
   "outputs": [
    {
     "data": {
      "text/plain": [
       "(30000, 6)"
      ]
     },
     "execution_count": 181,
     "metadata": {},
     "output_type": "execute_result"
    }
   ],
   "source": [
    "t_2d.shape"
   ]
  },
  {
   "cell_type": "code",
   "execution_count": 182,
   "metadata": {},
   "outputs": [
    {
     "name": "stdout",
     "output_type": "stream",
     "text": [
      "All values: 30000 , zero values: 22213 , Non-zero values: 7787 , Max is: 249.0 , Min is: 0.0\n"
     ]
    }
   ],
   "source": [
    "# t_2d \n",
    "first_sensor = t_2d[:,0]\n",
    "count = 0\n",
    "for i, item in enumerate(first_sensor):\n",
    "    if item == 0.0:\n",
    "        count += 1\n",
    "print(\"All values:\", len(first_sensor),\", zero values:\", count, \", Non-zero values:\", len(first_sensor) - count, \n",
    "     \", Max is:\", max(t_2d[:,0]),\", Min is:\", min(t_2d[:,0]))\n",
    "    "
   ]
  },
  {
   "cell_type": "code",
   "execution_count": 22,
   "metadata": {},
   "outputs": [
    {
     "name": "stdout",
     "output_type": "stream",
     "text": [
      "All values: 30000 , zero values: 0 , Non-zero values: 30000 , Max is: 36.31895 , Min is: -22.885782\n"
     ]
    }
   ],
   "source": [
    "first_sensor = y_np_array_flatten[:,0]\n",
    "count = 0\n",
    "for i, item in enumerate(first_sensor):\n",
    "    if item == 0.0:\n",
    "        count += 1\n",
    "print(\"All values:\", len(first_sensor),\", zero values:\", count, \", Non-zero values:\", len(first_sensor) - count, \n",
    "     \", Max is:\", max(y_np_array_flatten[:,0]),\", Min is:\", min(y_np_array_flatten[:,0]))\n",
    "    "
   ]
  },
  {
   "cell_type": "code",
   "execution_count": 26,
   "metadata": {},
   "outputs": [
    {
     "name": "stdout",
     "output_type": "stream",
     "text": [
      "All values: 30000 , zero values: 0 , Non-zero values: 30000 , Max is: 4.0705686 , Min is: -1.3161293\n"
     ]
    }
   ],
   "source": [
    "second_sensor = y_np_array_flatten[:,1]\n",
    "count = 0\n",
    "for i, item in enumerate(second_sensor):\n",
    "    if item == 0.0:\n",
    "        count += 1\n",
    "print(\"All values:\", len(second_sensor),\", zero values:\", count, \", Non-zero values:\", len(second_sensor) - count, \n",
    "     \", Max is:\", max(y_np_array_flatten[:,1]),\", Min is:\", min(y_np_array_flatten[:,1]))\n",
    "    "
   ]
  },
  {
   "cell_type": "code",
   "execution_count": 27,
   "metadata": {},
   "outputs": [
    {
     "name": "stdout",
     "output_type": "stream",
     "text": [
      "All values: 30000 , zero values: 0 , Non-zero values: 30000 , Max is: 26.031942 , Min is: -32.28317\n"
     ]
    }
   ],
   "source": [
    "third_sensor = y_np_array_flatten[:,2]\n",
    "count = 0\n",
    "for i, item in enumerate(third_sensor):\n",
    "    if item == 0.0:\n",
    "        count += 1\n",
    "print(\"All values:\", len(third_sensor),\", zero values:\", count, \", Non-zero values:\", len(third_sensor) - count, \n",
    "     \", Max is:\", max(y_np_array_flatten[:,2]),\", Min is:\", min(y_np_array_flatten[:,2]))\n",
    "    "
   ]
  },
  {
   "cell_type": "code",
   "execution_count": 28,
   "metadata": {},
   "outputs": [
    {
     "name": "stdout",
     "output_type": "stream",
     "text": [
      "All values: 30000 , zero values: 0 , Non-zero values: 30000 , Max is: 27.785074 , Min is: -14.864829\n"
     ]
    }
   ],
   "source": [
    "fourth_sensor = y_np_array_flatten[:,3]\n",
    "count = 0\n",
    "for i, item in enumerate(fourth_sensor):\n",
    "    if item == 0.0:\n",
    "        count += 1\n",
    "print(\"All values:\", len(fourth_sensor),\", zero values:\", count, \", Non-zero values:\", len(fourth_sensor) - count, \n",
    "     \", Max is:\", max(y_np_array_flatten[:,3]),\", Min is:\", min(y_np_array_flatten[:,3]))\n",
    "    "
   ]
  },
  {
   "cell_type": "code",
   "execution_count": 29,
   "metadata": {},
   "outputs": [
    {
     "name": "stdout",
     "output_type": "stream",
     "text": [
      "All values: 30000 , zero values: 0 , Non-zero values: 30000 , Max is: 30.887615 , Min is: -16.452091\n"
     ]
    }
   ],
   "source": [
    "fifth_sensor = y_np_array_flatten[:,4]\n",
    "count = 0\n",
    "for i, item in enumerate(fifth_sensor):\n",
    "    if item == 0.0:\n",
    "        count += 1\n",
    "print(\"All values:\", len(fifth_sensor),\", zero values:\", count, \", Non-zero values:\", len(fifth_sensor) - count, \n",
    "     \", Max is:\", max(y_np_array_flatten[:,4]),\", Min is:\", min(y_np_array_flatten[:,4]))\n",
    "    "
   ]
  },
  {
   "cell_type": "code",
   "execution_count": 30,
   "metadata": {},
   "outputs": [
    {
     "name": "stdout",
     "output_type": "stream",
     "text": [
      "All values: 30000 , zero values: 0 , Non-zero values: 30000 , Max is: 44.478806 , Min is: -20.511765\n"
     ]
    }
   ],
   "source": [
    "sixth_sensor = y_np_array_flatten[:,5]\n",
    "count = 0\n",
    "for i, item in enumerate(sixth_sensor):\n",
    "    if item == 0.0:\n",
    "        count += 1\n",
    "print(\"All values:\", len(sixth_sensor),\", zero values:\", count, \", Non-zero values:\", len(sixth_sensor) - count, \n",
    "     \", Max is:\", max(y_np_array_flatten[:,5]),\", Min is:\", min(y_np_array_flatten[:,5]))\n",
    "    "
   ]
  },
  {
   "cell_type": "code",
   "execution_count": 65,
   "metadata": {},
   "outputs": [
    {
     "name": "stdout",
     "output_type": "stream",
     "text": [
      "WARNING:tensorflow:No training configuration found in the save file, so the model was *not* compiled. Compile it manually.\n"
     ]
    }
   ],
   "source": [
    "# from keras.models import Model, load_model\n",
    "\n",
    "embedded_model = load_model('stage_1_model.h5')  # loads weights in model\n",
    "total_touch =  total_touch.astype(np.float64)"
   ]
  },
  {
   "cell_type": "markdown",
   "metadata": {},
   "source": [
    "##### Try shuffle data befor feeding to the model\n",
    "### First Stage Model which its output is (None, 256)"
   ]
  },
  {
   "cell_type": "code",
   "execution_count": 75,
   "metadata": {},
   "outputs": [
    {
     "name": "stdout",
     "output_type": "stream",
     "text": [
      "WARNING:tensorflow:No training configuration found in the save file, so the model was *not* compiled. Compile it manually.\n"
     ]
    }
   ],
   "source": [
    "# from keras.models import Model, load_model\n",
    "\n",
    "embedded_model = load_model('stage_1_model.h5')  # loads weights in model\n",
    "total_touch =  total_touch.astype(np.float64)"
   ]
  },
  {
   "cell_type": "code",
   "execution_count": 77,
   "metadata": {},
   "outputs": [
    {
     "name": "stdout",
     "output_type": "stream",
     "text": [
      "3730/3730 [==============================] - 10s 3ms/step\n",
      "embedding's shape is: (119337, 256)\n"
     ]
    }
   ],
   "source": [
    "embedding = embedded_model.predict(total_touch, verbose=1)  # runs encoder on all human collected data\n",
    "print(\"embedding's shape is:\", embedding.shape) "
   ]
  },
  {
   "cell_type": "markdown",
   "metadata": {},
   "source": [
    "### Second Stage Model which its Input is (None, 256) and Output is (None, 11)\n"
   ]
  },
  {
   "cell_type": "code",
   "execution_count": 69,
   "metadata": {
    "scrolled": true
   },
   "outputs": [
    {
     "name": "stdout",
     "output_type": "stream",
     "text": [
      "WARNING:tensorflow:Error in loading the saved optimizer state. As a result, your model is starting with a freshly initialized optimizer.\n"
     ]
    },
    {
     "name": "stderr",
     "output_type": "stream",
     "text": [
      "/var/folders/lb/_203ykj57y3dsvmmryg019nr0000gn/T/ipykernel_2066/4074395438.py:6: DeprecationWarning: `np.float` is a deprecated alias for the builtin `float`. To silence this warning, use `float` by itself. Doing this will not modify any behavior and is safe. If you specifically wanted the numpy scalar type, use `np.float64` here.\n",
      "Deprecated in NumPy 1.20; for more details and guidance: https://numpy.org/devdocs/release/1.20.0-notes.html#deprecations\n",
      "  total_touch =  total_touch.astype(np.float)\n"
     ]
    },
    {
     "name": "stdout",
     "output_type": "stream",
     "text": [
      "WARNING:tensorflow:AutoGraph could not transform <function Model.make_predict_function.<locals>.predict_function at 0x17758e1f0> and will run it as-is.\n",
      "Please report this to the TensorFlow team. When filing the bug, set the verbosity to 10 (on Linux, `export AUTOGRAPH_VERBOSITY=10`) and attach the full output.\n",
      "Cause: unsupported operand type(s) for -: 'NoneType' and 'int'\n",
      "To silence this warning, decorate the function with @tf.autograph.experimental.do_not_convert\n",
      "WARNING: AutoGraph could not transform <function Model.make_predict_function.<locals>.predict_function at 0x17758e1f0> and will run it as-is.\n",
      "Please report this to the TensorFlow team. When filing the bug, set the verbosity to 10 (on Linux, `export AUTOGRAPH_VERBOSITY=10`) and attach the full output.\n",
      "Cause: unsupported operand type(s) for -: 'NoneType' and 'int'\n",
      "To silence this warning, decorate the function with @tf.autograph.experimental.do_not_convert\n",
      "3730/3730 [==============================] - 1s 276us/step\n",
      "(119337, 11)\n"
     ]
    }
   ],
   "source": [
    "# from keras.models import Model, load_model\n",
    "\n",
    "embedded_model = load_model('stage_2_model.h5')  # loads weights in model\n",
    "total_touch =  total_touch.astype(np.float64)\n",
    "embedding_2 = embedded_model.predict(embedding, verbose=1)  # runs encoder on all human collected data\n",
    "print(embedding_2.shape)"
   ]
  },
  {
   "cell_type": "code",
   "execution_count": 82,
   "metadata": {},
   "outputs": [
    {
     "data": {
      "text/plain": [
       "(119337, 250, 6)"
      ]
     },
     "execution_count": 82,
     "metadata": {},
     "output_type": "execute_result"
    }
   ],
   "source": [
    "total_touch.shape"
   ]
  },
  {
   "cell_type": "code",
   "execution_count": 81,
   "metadata": {},
   "outputs": [
    {
     "data": {
      "text/plain": [
       "((119337, 256), (119337, 11))"
      ]
     },
     "execution_count": 81,
     "metadata": {},
     "output_type": "execute_result"
    }
   ],
   "source": [
    "embedding.shape, embedding_2.shape"
   ]
  },
  {
   "cell_type": "code",
   "execution_count": 91,
   "metadata": {},
   "outputs": [
    {
     "data": {
      "text/plain": [
       "(119337,)"
      ]
     },
     "execution_count": 91,
     "metadata": {},
     "output_type": "execute_result"
    }
   ],
   "source": [
    "embedding_2[:,10].shape"
   ]
  },
  {
   "cell_type": "code",
   "execution_count": 333,
   "metadata": {},
   "outputs": [
    {
     "data": {
      "text/plain": [
       "numpy.ndarray"
      ]
     },
     "execution_count": 333,
     "metadata": {},
     "output_type": "execute_result"
    }
   ],
   "source": [
    "type(embedding_2)"
   ]
  },
  {
   "cell_type": "code",
   "execution_count": 96,
   "metadata": {},
   "outputs": [
    {
     "data": {
      "text/plain": [
       "(11.054587, 9.214968)"
      ]
     },
     "execution_count": 96,
     "metadata": {},
     "output_type": "execute_result"
    }
   ],
   "source": [
    "# First column of affect-vector \n",
    "np.std(embedding_2[:,0]), np.mean(embedding_2[:,0])"
   ]
  },
  {
   "cell_type": "code",
   "execution_count": 98,
   "metadata": {},
   "outputs": [
    {
     "data": {
      "text/plain": [
       "(9.888124, 7.3806915)"
      ]
     },
     "execution_count": 98,
     "metadata": {},
     "output_type": "execute_result"
    }
   ],
   "source": [
    "# Second column of affect-vector \n",
    "np.std(embedding_2[:,1]), np.mean(embedding_2[:,1])"
   ]
  },
  {
   "cell_type": "code",
   "execution_count": 101,
   "metadata": {},
   "outputs": [
    {
     "data": {
      "text/plain": [
       "(4.6771483, 1.2978473)"
      ]
     },
     "execution_count": 101,
     "metadata": {},
     "output_type": "execute_result"
    }
   ],
   "source": [
    "# Eleventh column of affect-vector \n",
    "np.std(embedding_2[:,10]), np.mean(embedding_2[:,10])"
   ]
  },
  {
   "cell_type": "code",
   "execution_count": 107,
   "metadata": {},
   "outputs": [
    {
     "data": {
      "text/plain": [
       "119337"
      ]
     },
     "execution_count": 107,
     "metadata": {},
     "output_type": "execute_result"
    }
   ],
   "source": [
    "embedding_2[:,0].size"
   ]
  },
  {
   "cell_type": "markdown",
   "metadata": {},
   "source": [
    "# Normal Distribution"
   ]
  },
  {
   "cell_type": "markdown",
   "metadata": {},
   "source": [
    "#### First Dimension of Affect vector: Supervised Signal VS Learned Model"
   ]
  },
  {
   "cell_type": "code",
   "execution_count": 214,
   "metadata": {},
   "outputs": [
    {
     "data": {
      "image/png": "[encoded data removed]",
      "text/plain": [
       "<Figure size 432x288 with 1 Axes>"
      ]
     },
     "metadata": {
      "needs_background": "light"
     },
     "output_type": "display_data"
    }
   ],
   "source": [
    "import numpy as np\n",
    "from scipy.stats import norm\n",
    "import matplotlib.pyplot as plt\n",
    "\n",
    "# Let's read our data from LIWC file\n",
    "# Posemotion Anxiety Anger Sad Tentative Certain\n",
    "data = liwc_csv.loc[:,\"posemo\"] # posemo\tnegemo\tanx\tanger\tsad\tfemale\tmale\ttentat\tcertain\tsexual\tswear\n",
    "\n",
    "# Fit a normal distribution to the data:\n",
    "mu, std = norm.fit(data)\n",
    "\n",
    "# Plot the histogram.\n",
    "plt.hist(data, bins=25, density=True, alpha=0.6, color='r')\n",
    "\n",
    "# Plot the PDF.\n",
    "xmin, xmax = plt.xlim()\n",
    "x = np.linspace(xmin, xmax, 100)\n",
    "p = norm.pdf(x, mu, std)\n",
    "plt.plot(x, p, 'k', linewidth=2)\n",
    "title = \"First column of affect vector: mu = %.2f,  std = %.2f\" % (mu, std)\n",
    "plt.title(title)\n",
    "\n",
    "plt.show()"
   ]
  },
  {
   "cell_type": "code",
   "execution_count": 362,
   "metadata": {},
   "outputs": [
    {
     "data": {
      "text/plain": [
       "(119337, 11)"
      ]
     },
     "execution_count": 362,
     "metadata": {},
     "output_type": "execute_result"
    }
   ],
   "source": [
    "embedding_2.shape"
   ]
  },
  {
   "cell_type": "code",
   "execution_count": 215,
   "metadata": {},
   "outputs": [
    {
     "data": {
      "image/png": "[encoded data removed]",
      "text/plain": [
       "<Figure size 432x288 with 1 Axes>"
      ]
     },
     "metadata": {
      "needs_background": "light"
     },
     "output_type": "display_data"
    }
   ],
   "source": [
    "import numpy as np\n",
    "from scipy.stats import norm\n",
    "import matplotlib.pyplot as plt\n",
    "\n",
    "\n",
    "# Let's read our data\n",
    "data = embedding_2[:,0]\n",
    "\n",
    "# Fit a normal distribution to the data:\n",
    "mu, std = norm.fit(data)\n",
    "\n",
    "# Plot the histogram.\n",
    "plt.hist(data, bins=25, density=True, alpha=0.6, color='g')\n",
    "\n",
    "# Plot the PDF.\n",
    "xmin, xmax = plt.xlim()\n",
    "x = np.linspace(xmin, xmax, 100)\n",
    "p = norm.pdf(x, mu, std)\n",
    "plt.plot(x, p, 'k', linewidth=2)\n",
    "title = \"First column of affect vector: mu = %.2f,  std = %.2f\" % (mu, std)\n",
    "plt.title(title)\n",
    "\n",
    "plt.show()"
   ]
  },
  {
   "cell_type": "markdown",
   "metadata": {},
   "source": [
    "#### Second Dimension of Affect vector: Supervised Signal VS Learned Model"
   ]
  },
  {
   "cell_type": "code",
   "execution_count": 360,
   "metadata": {},
   "outputs": [],
   "source": [
    "# import numpy as np\n",
    "# from scipy.stats import norm\n",
    "# import matplotlib.pyplot as plt\n",
    "\n",
    "\n",
    "# # Let's read our data\n",
    "# data = liwc_csv.loc[:,\"negemo\"] ## posemo\tnegemo\tanx\tanger\tsad\tfemale\tmale\ttentat\tcertain\tsexual\tswear\n",
    "\n",
    "# # Fit a normal distribution to the data:\n",
    "# mu, std = norm.fit(data)\n",
    "\n",
    "# # Plot the histogram.\n",
    "# plt.hist(data, bins=25, density=True, alpha=0.6, color='r')\n",
    "\n",
    "# # Plot the PDF.\n",
    "# xmin, xmax = plt.xlim()\n",
    "# x = np.linspace(xmin, xmax, 100)\n",
    "# p = norm.pdf(x, mu, std)\n",
    "# plt.plot(x, p, 'k', linewidth=2)\n",
    "# title = \"First column of affect vector: mu = %.2f,  std = %.2f\" % (mu, std)\n",
    "# plt.title(title)\n",
    "\n",
    "# plt.show()"
   ]
  },
  {
   "cell_type": "code",
   "execution_count": 361,
   "metadata": {},
   "outputs": [],
   "source": [
    "# import numpy as np\n",
    "# from scipy.stats import norm\n",
    "# import matplotlib.pyplot as plt\n",
    "\n",
    "\n",
    "# # Let's read our data\n",
    "# data = embedding_2[:,1]\n",
    "\n",
    "# # Fit a normal distribution to the data:\n",
    "# mu, std = norm.fit(data)\n",
    "\n",
    "# # Plot the histogram.\n",
    "# plt.hist(data, bins=25, density=True, alpha=0.6, color='g')\n",
    "\n",
    "# # Plot the PDF.\n",
    "# xmin, xmax = plt.xlim()\n",
    "# x = np.linspace(xmin, xmax, 100)\n",
    "# p = norm.pdf(x, mu, std)\n",
    "# plt.plot(x, p, 'k', linewidth=2)\n",
    "# title = \"First column of affect vector: mu = %.2f,  std = %.2f\" % (mu, std)\n",
    "# plt.title(title)\n",
    "\n",
    "# plt.show()"
   ]
  },
  {
   "cell_type": "markdown",
   "metadata": {},
   "source": [
    "#### Third Dimension of Affect vector: Supervised Signal VS Learned Model"
   ]
  },
  {
   "cell_type": "code",
   "execution_count": 218,
   "metadata": {},
   "outputs": [
    {
     "data": {
      "image/png": "[encoded data removed]",
      "text/plain": [
       "<Figure size 432x288 with 1 Axes>"
      ]
     },
     "metadata": {
      "needs_background": "light"
     },
     "output_type": "display_data"
    }
   ],
   "source": [
    "import numpy as np\n",
    "from scipy.stats import norm\n",
    "import matplotlib.pyplot as plt\n",
    "\n",
    "\n",
    "# Let's read our data\n",
    "data = liwc_csv.loc[:,\"anx\"] ## posemo\tnegemo\tanx\tanger\tsad\tfemale\tmale\ttentat\tcertain\tsexual\tswear\n",
    "\n",
    "# Fit a normal distribution to the data:\n",
    "mu, std = norm.fit(data)\n",
    "\n",
    "# Plot the histogram.\n",
    "plt.hist(data, bins=25, density=True, alpha=0.6, color='r')\n",
    "\n",
    "# Plot the PDF.\n",
    "xmin, xmax = plt.xlim()\n",
    "x = np.linspace(xmin, xmax, 100)\n",
    "p = norm.pdf(x, mu, std)\n",
    "plt.plot(x, p, 'k', linewidth=2)\n",
    "title = \"First column of affect vector: mu = %.2f,  std = %.2f\" % (mu, std)\n",
    "plt.title(title)\n",
    "\n",
    "plt.show()"
   ]
  },
  {
   "cell_type": "code",
   "execution_count": 219,
   "metadata": {},
   "outputs": [
    {
     "data": {
      "image/png": "[encoded data removed]",
      "text/plain": [
       "<Figure size 432x288 with 1 Axes>"
      ]
     },
     "metadata": {
      "needs_background": "light"
     },
     "output_type": "display_data"
    }
   ],
   "source": [
    "import numpy as np\n",
    "from scipy.stats import norm\n",
    "import matplotlib.pyplot as plt\n",
    "\n",
    "\n",
    "# Let's read our data\n",
    "data = embedding_2[:,2]\n",
    "\n",
    "# Fit a normal distribution to the data:\n",
    "mu, std = norm.fit(data)\n",
    "\n",
    "# Plot the histogram.\n",
    "plt.hist(data, bins=25, density=True, alpha=0.6, color='g')\n",
    "\n",
    "# Plot the PDF.\n",
    "xmin, xmax = plt.xlim()\n",
    "x = np.linspace(xmin, xmax, 100)\n",
    "p = norm.pdf(x, mu, std)\n",
    "plt.plot(x, p, 'k', linewidth=2)\n",
    "title = \"First column of affect vector: mu = %.2f,  std = %.2f\" % (mu, std)\n",
    "plt.title(title)\n",
    "\n",
    "plt.show()"
   ]
  },
  {
   "cell_type": "markdown",
   "metadata": {},
   "source": [
    "#### Fourth Dimension of Affect vector: Supervised Signal VS Learned Model"
   ]
  },
  {
   "cell_type": "code",
   "execution_count": 220,
   "metadata": {},
   "outputs": [
    {
     "data": {
      "image/png": "[encoded data removed]",
      "text/plain": [
       "<Figure size 432x288 with 1 Axes>"
      ]
     },
     "metadata": {
      "needs_background": "light"
     },
     "output_type": "display_data"
    }
   ],
   "source": [
    "import numpy as np\n",
    "from scipy.stats import norm\n",
    "import matplotlib.pyplot as plt\n",
    "\n",
    "\n",
    "# Let's read our data\n",
    "data = liwc_csv.loc[:,\"anger\"] ## posemo\tnegemo\tanx\tanger\tsad\tfemale\tmale\ttentat\tcertain\tsexual\tswear\n",
    "\n",
    "# Fit a normal distribution to the data:\n",
    "mu, std = norm.fit(data)\n",
    "\n",
    "# Plot the histogram.\n",
    "plt.hist(data, bins=25, density=True, alpha=0.6, color='r')\n",
    "\n",
    "# Plot the PDF.\n",
    "xmin, xmax = plt.xlim()\n",
    "x = np.linspace(xmin, xmax, 100)\n",
    "p = norm.pdf(x, mu, std)\n",
    "plt.plot(x, p, 'k', linewidth=2)\n",
    "title = \"First column of affect vector: mu = %.2f,  std = %.2f\" % (mu, std)\n",
    "plt.title(title)\n",
    "\n",
    "plt.show()"
   ]
  },
  {
   "cell_type": "code",
   "execution_count": 221,
   "metadata": {},
   "outputs": [
    {
     "data": {
      "image/png": "[encoded data removed]",
      "text/plain": [
       "<Figure size 432x288 with 1 Axes>"
      ]
     },
     "metadata": {
      "needs_background": "light"
     },
     "output_type": "display_data"
    }
   ],
   "source": [
    "import numpy as np\n",
    "from scipy.stats import norm\n",
    "import matplotlib.pyplot as plt\n",
    "\n",
    "\n",
    "# Let's read our data\n",
    "data = embedding_2[:,3]\n",
    "\n",
    "# Fit a normal distribution to the data:\n",
    "mu, std = norm.fit(data)\n",
    "\n",
    "# Plot the histogram.\n",
    "plt.hist(data, bins=25, density=True, alpha=0.6, color='g')\n",
    "\n",
    "# Plot the PDF.\n",
    "xmin, xmax = plt.xlim()\n",
    "x = np.linspace(xmin, xmax, 100)\n",
    "p = norm.pdf(x, mu, std)\n",
    "plt.plot(x, p, 'k', linewidth=2)\n",
    "title = \"First column of affect vector: mu = %.2f,  std = %.2f\" % (mu, std)\n",
    "plt.title(title)\n",
    "\n",
    "plt.show()"
   ]
  },
  {
   "cell_type": "markdown",
   "metadata": {},
   "source": [
    "#### Fifth Dimension of Affect vector: Supervised Signal VS Learned Model"
   ]
  },
  {
   "cell_type": "code",
   "execution_count": 222,
   "metadata": {},
   "outputs": [
    {
     "data": {
      "image/png": "[encoded data removed]",
      "text/plain": [
       "<Figure size 432x288 with 1 Axes>"
      ]
     },
     "metadata": {
      "needs_background": "light"
     },
     "output_type": "display_data"
    }
   ],
   "source": [
    "import numpy as np\n",
    "from scipy.stats import norm\n",
    "import matplotlib.pyplot as plt\n",
    "\n",
    "\n",
    "# Let's read our data\n",
    "data = liwc_csv.loc[:,\"sad\"] ## posemo\tnegemo\tanx\tanger\tsad\tfemale\tmale\ttentat\tcertain\tsexual\tswear\n",
    "\n",
    "# Fit a normal distribution to the data:\n",
    "mu, std = norm.fit(data)\n",
    "\n",
    "# Plot the histogram.\n",
    "plt.hist(data, bins=25, density=True, alpha=0.6, color='r')\n",
    "\n",
    "# Plot the PDF.\n",
    "xmin, xmax = plt.xlim()\n",
    "x = np.linspace(xmin, xmax, 100)\n",
    "p = norm.pdf(x, mu, std)\n",
    "plt.plot(x, p, 'k', linewidth=2)\n",
    "title = \"First column of affect vector: mu = %.2f,  std = %.2f\" % (mu, std)\n",
    "plt.title(title)\n",
    "\n",
    "plt.show()"
   ]
  },
  {
   "cell_type": "code",
   "execution_count": 223,
   "metadata": {},
   "outputs": [
    {
     "data": {
      "image/png": "[encoded data removed]",
      "text/plain": [
       "<Figure size 432x288 with 1 Axes>"
      ]
     },
     "metadata": {
      "needs_background": "light"
     },
     "output_type": "display_data"
    }
   ],
   "source": [
    "import numpy as np\n",
    "from scipy.stats import norm\n",
    "import matplotlib.pyplot as plt\n",
    "\n",
    "\n",
    "# Let's read our data\n",
    "data = embedding_2[:,4]\n",
    "\n",
    "# Fit a normal distribution to the data:\n",
    "mu, std = norm.fit(data)\n",
    "\n",
    "# Plot the histogram.\n",
    "plt.hist(data, bins=25, density=True, alpha=0.6, color='g')\n",
    "\n",
    "# Plot the PDF.\n",
    "xmin, xmax = plt.xlim()\n",
    "x = np.linspace(xmin, xmax, 100)\n",
    "p = norm.pdf(x, mu, std)\n",
    "plt.plot(x, p, 'k', linewidth=2)\n",
    "title = \"First column of affect vector: mu = %.2f,  std = %.2f\" % (mu, std)\n",
    "plt.title(title)\n",
    "\n",
    "plt.show()"
   ]
  },
  {
   "cell_type": "markdown",
   "metadata": {},
   "source": [
    "#### Sixth Dimension of Affect vector: Supervised Signal VS Learned Model"
   ]
  },
  {
   "cell_type": "code",
   "execution_count": 352,
   "metadata": {},
   "outputs": [],
   "source": [
    "# import numpy as np\n",
    "# from scipy.stats import norm\n",
    "# import matplotlib.pyplot as plt\n",
    "\n",
    "\n",
    "# # Let's read our data\n",
    "# data = liwc_csv.loc[:,\"female\"] ## posemo\tnegemo\tanx\tanger\tsad\tfemale\tmale\ttentat\tcertain\tsexual\tswear\n",
    "\n",
    "# # Fit a normal distribution to the data:\n",
    "# mu, std = norm.fit(data)\n",
    "\n",
    "# # Plot the histogram.\n",
    "# plt.hist(data, bins=25, density=True, alpha=0.6, color='r')\n",
    "\n",
    "# # Plot the PDF.\n",
    "# xmin, xmax = plt.xlim()\n",
    "# x = np.linspace(xmin, xmax, 100)\n",
    "# p = norm.pdf(x, mu, std)\n",
    "# plt.plot(x, p, 'k', linewidth=2)\n",
    "# title = \"First column of affect vector: mu = %.2f,  std = %.2f\" % (mu, std)\n",
    "# plt.title(title)\n",
    "\n",
    "# plt.show()"
   ]
  },
  {
   "cell_type": "code",
   "execution_count": 353,
   "metadata": {},
   "outputs": [],
   "source": [
    "# import numpy as np\n",
    "# from scipy.stats import norm\n",
    "# import matplotlib.pyplot as plt\n",
    "\n",
    "\n",
    "# # Let's read our data\n",
    "# data = embedding_2[:,5]\n",
    "\n",
    "# # Fit a normal distribution to the data:\n",
    "# mu, std = norm.fit(data)\n",
    "\n",
    "# # Plot the histogram.\n",
    "# plt.hist(data, bins=25, density=True, alpha=0.6, color='g')\n",
    "\n",
    "# # Plot the PDF.\n",
    "# xmin, xmax = plt.xlim()\n",
    "# x = np.linspace(xmin, xmax, 100)\n",
    "# p = norm.pdf(x, mu, std)\n",
    "# plt.plot(x, p, 'k', linewidth=2)\n",
    "# title = \"First column of affect vector: mu = %.2f,  std = %.2f\" % (mu, std)\n",
    "# plt.title(title)\n",
    "\n",
    "# plt.show()"
   ]
  },
  {
   "cell_type": "markdown",
   "metadata": {},
   "source": [
    "#### Seventh Dimension of Affect vector: Supervised Signal VS Learned Model"
   ]
  },
  {
   "cell_type": "code",
   "execution_count": 354,
   "metadata": {},
   "outputs": [],
   "source": [
    "# import numpy as np\n",
    "# from scipy.stats import norm\n",
    "# import matplotlib.pyplot as plt\n",
    "\n",
    "\n",
    "# # Let's read our data\n",
    "# data = liwc_csv.loc[:,\"male\"] ## posemo\tnegemo\tanx\tanger\tsad\tfemale\tmale\ttentat\tcertain\tsexual\tswear\n",
    "\n",
    "# # Fit a normal distribution to the data:\n",
    "# mu, std = norm.fit(data)\n",
    "\n",
    "# # Plot the histogram.\n",
    "# plt.hist(data, bins=25, density=True, alpha=0.6, color='r')\n",
    "\n",
    "# # Plot the PDF.\n",
    "# xmin, xmax = plt.xlim()\n",
    "# x = np.linspace(xmin, xmax, 100)\n",
    "# p = norm.pdf(x, mu, std)\n",
    "# plt.plot(x, p, 'k', linewidth=2)\n",
    "# title = \"First column of affect vector: mu = %.2f,  std = %.2f\" % (mu, std)\n",
    "# plt.title(title)\n",
    "\n",
    "# plt.show()"
   ]
  },
  {
   "cell_type": "code",
   "execution_count": 355,
   "metadata": {},
   "outputs": [],
   "source": [
    "# import numpy as np\n",
    "# from scipy.stats import norm\n",
    "# import matplotlib.pyplot as plt\n",
    "\n",
    "\n",
    "# # Let's read our data\n",
    "# data = embedding_2[:,6]\n",
    "\n",
    "# # Fit a normal distribution to the data:\n",
    "# mu, std = norm.fit(data)\n",
    "\n",
    "# # Plot the histogram.\n",
    "# plt.hist(data, bins=25, density=True, alpha=0.6, color='g')\n",
    "\n",
    "# # Plot the PDF.\n",
    "# xmin, xmax = plt.xlim()\n",
    "# x = np.linspace(xmin, xmax, 100)\n",
    "# p = norm.pdf(x, mu, std)\n",
    "# plt.plot(x, p, 'k', linewidth=2)\n",
    "# title = \"First column of affect vector: mu = %.2f,  std = %.2f\" % (mu, std)\n",
    "# plt.title(title)\n",
    "\n",
    "# plt.show()"
   ]
  },
  {
   "cell_type": "markdown",
   "metadata": {},
   "source": [
    "#### Eighth Dimension of Affect vector: Supervised Signal VS Learned Model"
   ]
  },
  {
   "cell_type": "code",
   "execution_count": 228,
   "metadata": {},
   "outputs": [
    {
     "data": {
      "image/png": "[encoded data removed]",
      "text/plain": [
       "<Figure size 432x288 with 1 Axes>"
      ]
     },
     "metadata": {
      "needs_background": "light"
     },
     "output_type": "display_data"
    }
   ],
   "source": [
    "import numpy as np\n",
    "from scipy.stats import norm\n",
    "import matplotlib.pyplot as plt\n",
    "\n",
    "\n",
    "# Let's read our data\n",
    "data = liwc_csv.loc[:,\"tentat\"] ## posemo\tnegemo\tanx\tanger\tsad\tfemale\tmale\ttentat\tcertain\tsexual\tswear\n",
    "\n",
    "# Fit a normal distribution to the data:\n",
    "mu, std = norm.fit(data)\n",
    "\n",
    "# Plot the histogram.\n",
    "plt.hist(data, bins=25, density=True, alpha=0.6, color='r')\n",
    "\n",
    "# Plot the PDF.\n",
    "xmin, xmax = plt.xlim()\n",
    "x = np.linspace(xmin, xmax, 100)\n",
    "p = norm.pdf(x, mu, std)\n",
    "plt.plot(x, p, 'k', linewidth=2)\n",
    "title = \"First column of affect vector: mu = %.2f,  std = %.2f\" % (mu, std)\n",
    "plt.title(title)\n",
    "\n",
    "plt.show()"
   ]
  },
  {
   "cell_type": "code",
   "execution_count": 229,
   "metadata": {},
   "outputs": [
    {
     "data": {
      "image/png": "[encoded data removed]",
      "text/plain": [
       "<Figure size 432x288 with 1 Axes>"
      ]
     },
     "metadata": {
      "needs_background": "light"
     },
     "output_type": "display_data"
    }
   ],
   "source": [
    "import numpy as np\n",
    "from scipy.stats import norm\n",
    "import matplotlib.pyplot as plt\n",
    "\n",
    "\n",
    "# Let's read our data\n",
    "data = embedding_2[:,7]\n",
    "\n",
    "# Fit a normal distribution to the data:\n",
    "mu, std = norm.fit(data)\n",
    "\n",
    "# Plot the histogram.\n",
    "plt.hist(data, bins=25, density=True, alpha=0.6, color='g')\n",
    "\n",
    "# Plot the PDF.\n",
    "xmin, xmax = plt.xlim()\n",
    "x = np.linspace(xmin, xmax, 100)\n",
    "p = norm.pdf(x, mu, std)\n",
    "plt.plot(x, p, 'k', linewidth=2)\n",
    "title = \"First column of affect vector: mu = %.2f,  std = %.2f\" % (mu, std)\n",
    "plt.title(title)\n",
    "\n",
    "plt.show()"
   ]
  },
  {
   "cell_type": "markdown",
   "metadata": {},
   "source": [
    "#### Ninth Dimension of Affect vector: Supervised Signal VS Learned Model"
   ]
  },
  {
   "cell_type": "code",
   "execution_count": 230,
   "metadata": {},
   "outputs": [
    {
     "data": {
      "image/png": "[encoded data removed]",
      "text/plain": [
       "<Figure size 432x288 with 1 Axes>"
      ]
     },
     "metadata": {
      "needs_background": "light"
     },
     "output_type": "display_data"
    }
   ],
   "source": [
    "import numpy as np\n",
    "from scipy.stats import norm\n",
    "import matplotlib.pyplot as plt\n",
    "\n",
    "\n",
    "# Let's read our data\n",
    "data = liwc_csv.loc[:,\"certain\"] ## posemo\tnegemo\tanx\tanger\tsad\tfemale\tmale\ttentat\tcertain\tsexual\tswear\n",
    "\n",
    "# Fit a normal distribution to the data:\n",
    "mu, std = norm.fit(data)\n",
    "\n",
    "# Plot the histogram.\n",
    "plt.hist(data, bins=25, density=True, alpha=0.6, color='r')\n",
    "\n",
    "# Plot the PDF.\n",
    "xmin, xmax = plt.xlim()\n",
    "x = np.linspace(xmin, xmax, 100)\n",
    "p = norm.pdf(x, mu, std)\n",
    "plt.plot(x, p, 'k', linewidth=2)\n",
    "title = \"First column of affect vector: mu = %.2f,  std = %.2f\" % (mu, std)\n",
    "plt.title(title)\n",
    "\n",
    "plt.show()"
   ]
  },
  {
   "cell_type": "code",
   "execution_count": 231,
   "metadata": {},
   "outputs": [
    {
     "data": {
      "image/png": "[encoded data removed]",
      "text/plain": [
       "<Figure size 432x288 with 1 Axes>"
      ]
     },
     "metadata": {
      "needs_background": "light"
     },
     "output_type": "display_data"
    }
   ],
   "source": [
    "import numpy as np\n",
    "from scipy.stats import norm\n",
    "import matplotlib.pyplot as plt\n",
    "\n",
    "\n",
    "# Let's read our data\n",
    "data = embedding_2[:,8]\n",
    "\n",
    "# Fit a normal distribution to the data:\n",
    "mu, std = norm.fit(data)\n",
    "\n",
    "# Plot the histogram.\n",
    "plt.hist(data, bins=25, density=True, alpha=0.6, color='g')\n",
    "\n",
    "# Plot the PDF.\n",
    "xmin, xmax = plt.xlim()\n",
    "x = np.linspace(xmin, xmax, 100)\n",
    "p = norm.pdf(x, mu, std)\n",
    "plt.plot(x, p, 'k', linewidth=2)\n",
    "title = \"First column of affect vector: mu = %.2f,  std = %.2f\" % (mu, std)\n",
    "plt.title(title)\n",
    "\n",
    "plt.show()"
   ]
  },
  {
   "cell_type": "markdown",
   "metadata": {},
   "source": [
    "#### Tenth Dimension of Affect vector: Supervised Signal VS Learned Model"
   ]
  },
  {
   "cell_type": "code",
   "execution_count": 356,
   "metadata": {},
   "outputs": [],
   "source": [
    "# import numpy as np\n",
    "# from scipy.stats import norm\n",
    "# import matplotlib.pyplot as plt\n",
    "\n",
    "\n",
    "# # Let's read our data\n",
    "# data = liwc_csv.loc[:,\"sexual\"] ## posemo\tnegemo\tanx\tanger\tsad\tfemale\tmale\ttentat\tcertain\tsexual\tswear\n",
    "\n",
    "# # Fit a normal distribution to the data:\n",
    "# mu, std = norm.fit(data)\n",
    "\n",
    "# # Plot the histogram.\n",
    "# plt.hist(data, bins=25, density=True, alpha=0.6, color='r')\n",
    "\n",
    "# # Plot the PDF.\n",
    "# xmin, xmax = plt.xlim()\n",
    "# x = np.linspace(xmin, xmax, 100)\n",
    "# p = norm.pdf(x, mu, std)\n",
    "# plt.plot(x, p, 'k', linewidth=2)\n",
    "# title = \"First column of affect vector: mu = %.2f,  std = %.2f\" % (mu, std)\n",
    "# plt.title(title)\n",
    "\n",
    "# plt.show()"
   ]
  },
  {
   "cell_type": "code",
   "execution_count": 357,
   "metadata": {},
   "outputs": [],
   "source": [
    "# import numpy as np\n",
    "# from scipy.stats import norm\n",
    "# import matplotlib.pyplot as plt\n",
    "\n",
    "\n",
    "# # Let's read our data\n",
    "# data = embedding_2[:,9]\n",
    "\n",
    "# # Fit a normal distribution to the data:\n",
    "# mu, std = norm.fit(data)\n",
    "\n",
    "# # Plot the histogram.\n",
    "# plt.hist(data, bins=25, density=True, alpha=0.6, color='g')\n",
    "\n",
    "# # Plot the PDF.\n",
    "# xmin, xmax = plt.xlim()\n",
    "# x = np.linspace(xmin, xmax, 100)\n",
    "# p = norm.pdf(x, mu, std)\n",
    "# plt.plot(x, p, 'k', linewidth=2)\n",
    "# title = \"First column of affect vector: mu = %.2f,  std = %.2f\" % (mu, std)\n",
    "# plt.title(title)\n",
    "\n",
    "# plt.show()"
   ]
  },
  {
   "cell_type": "markdown",
   "metadata": {},
   "source": [
    "#### Eleventh Dimension of Affect vector: Supervised Signal VS Learned Model"
   ]
  },
  {
   "cell_type": "code",
   "execution_count": 358,
   "metadata": {},
   "outputs": [],
   "source": [
    "# import numpy as np\n",
    "# from scipy.stats import norm\n",
    "# import matplotlib.pyplot as plt\n",
    "\n",
    "\n",
    "# # Let's read our data\n",
    "# data = liwc_csv.loc[:,\"swear\"] ## posemo\tnegemo\tanx\tanger\tsad\tfemale\tmale\ttentat\tcertain\tsexual\tswear\n",
    "\n",
    "# # Fit a normal distribution to the data:\n",
    "# mu, std = norm.fit(data)\n",
    "\n",
    "# # Plot the histogram.\n",
    "# plt.hist(data, bins=25, density=True, alpha=0.6, color='r')\n",
    "\n",
    "# # Plot the PDF.\n",
    "# xmin, xmax = plt.xlim()\n",
    "# x = np.linspace(xmin, xmax, 100)\n",
    "# p = norm.pdf(x, mu, std)\n",
    "# plt.plot(x, p, 'k', linewidth=2)\n",
    "# title = \"First column of affect vector: mu = %.2f,  std = %.2f\" % (mu, std)\n",
    "# plt.title(title)\n",
    "\n",
    "# plt.show()"
   ]
  },
  {
   "cell_type": "code",
   "execution_count": 359,
   "metadata": {},
   "outputs": [],
   "source": [
    "# import numpy as np\n",
    "# from scipy.stats import norm\n",
    "# import matplotlib.pyplot as plt\n",
    "\n",
    "\n",
    "# # Let's read our data\n",
    "# data = embedding_2[:,10]\n",
    "\n",
    "# # Fit a normal distribution to the data:\n",
    "# mu, std = norm.fit(data)\n",
    "\n",
    "# # Plot the histogram.\n",
    "# plt.hist(data, bins=25, density=True, alpha=0.6, color='g')\n",
    "\n",
    "# # Plot the PDF.\n",
    "# xmin, xmax = plt.xlim()\n",
    "# x = np.linspace(xmin, xmax, 100)\n",
    "# p = norm.pdf(x, mu, std)\n",
    "# plt.plot(x, p, 'k', linewidth=2)\n",
    "# title = \"First column of affect vector: mu = %.2f,  std = %.2f\" % (mu, std)\n",
    "# plt.title(title)\n",
    "\n",
    "# plt.show()"
   ]
  },
  {
   "cell_type": "code",
   "execution_count": null,
   "metadata": {},
   "outputs": [],
   "source": []
  },
  {
   "cell_type": "code",
   "execution_count": 237,
   "metadata": {},
   "outputs": [],
   "source": [
    "# pip install textblob\n",
    "https://medium.com/pythoneers/15-python-packages-you-probably-dont-know-exits-aef0525a965f\n",
    "    "
   ]
  },
  {
   "cell_type": "code",
   "execution_count": null,
   "metadata": {},
   "outputs": [],
   "source": []
  },
  {
   "cell_type": "code",
   "execution_count": 297,
   "metadata": {},
   "outputs": [],
   "source": [
    "from textblob import TextBlob\n",
    "import nltk\n",
    "# https://medium.com/pythoneers/15-python-packages-you-probably-dont-know-exits-aef0525a965f"
   ]
  },
  {
   "cell_type": "code",
   "execution_count": 330,
   "metadata": {},
   "outputs": [],
   "source": [
    "### Reviews\n",
    "review1 = 'The Food Is awesome. I loved it. '\n",
    "review2 = 'Worst Quality. Worst Taste. Worst experience. I hate it.'"
   ]
  },
  {
   "cell_type": "code",
   "execution_count": 331,
   "metadata": {},
   "outputs": [
    {
     "name": "stdout",
     "output_type": "stream",
     "text": [
      "0.85\n",
      "-0.95\n"
     ]
    }
   ],
   "source": [
    "## The polarity of the text lies from -1 to 1. means any - value will be negative any + value will be positive and 0 for netural\n",
    "\n",
    "### Checking For Sentiment\n",
    "print(TextBlob(review1).sentiment[0]) ## 0.44999999999999996 (A positive Number) Means Positive\n",
    "print(TextBlob(review2).sentiment[0]) ## -0.95 (A negative Number) Means Negative\n"
   ]
  },
  {
   "cell_type": "code",
   "execution_count": null,
   "metadata": {},
   "outputs": [],
   "source": [
    "\n"
   ]
  },
  {
   "cell_type": "code",
   "execution_count": null,
   "metadata": {},
   "outputs": [],
   "source": []
  },
  {
   "cell_type": "code",
   "execution_count": null,
   "metadata": {},
   "outputs": [],
   "source": []
  }
 ],
 "metadata": {
  "kernelspec": {
   "display_name": "Python (tensorflow)",
   "language": "python",
   "name": "tensorflow"
  },
  "language_info": {
   "codemirror_mode": {
    "name": "ipython",
    "version": 3
   },
   "file_extension": ".py",
   "mimetype": "text/x-python",
   "name": "python",
   "nbconvert_exporter": "python",
   "pygments_lexer": "ipython3",
   "version": "3.8.10"
  }
 },
 "nbformat": 4,
 "nbformat_minor": 4
}
